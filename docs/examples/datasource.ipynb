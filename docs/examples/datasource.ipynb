{
 "cells": [
  {
   "cell_type": "markdown",
   "metadata": {},
   "source": [
    "# SOFT7 Data Source\n",
    "\n",
    "This notebook contains examples related to the SOFT7 data source.\n",
    "How to create, manage, resolve, and use SOFT7 data sources."
   ]
  },
  {
   "cell_type": "markdown",
   "metadata": {},
   "source": [
    "## Generate a SOFT7 Data Source\n",
    "\n",
    "SOFT7 Data Source instances can be generated based on information from the following parts:\n",
    "\n",
    "1. Data source (DB, File, Webpage, ...).\n",
    "2. Generic data source parser.\n",
    "3. Data source parser configuration.\n",
    "4. SOFT7 entity (data model).\n",
    "\n",
    "Parts 2 and 3 are together considered to produce the \"specific parser\".\n",
    "Parts 1 through 3 are provided as a collective, based on the [`ResourceConfig`](https://emmc-asbl.github.io/oteapi-core/latest/all_models/#oteapi.models.ResourceConfig) from [OTEAPI Core](https://emmc-asbl.github.io/oteapi-core/)."
   ]
  },
  {
   "cell_type": "markdown",
   "metadata": {},
   "source": [
    "### Resource configuration\n",
    "\n",
    "The resource configuration, originally based on the [Data Catalog Vocabulary (DCAT)](https://www.w3.org/TR/vocab-dcat-3/), is in this case a small set of data catalog fields mapped to resource-specific values:\n",
    "\n",
    "- `downloadUrl` or `accessUrl`:\n",
    "  - `downloadUrl`: The URL of the downloadable file in a given format. E.g. CSV file or RDF file.\n",
    "\n",
    "    Usage: `downloadURL` _SHOULD_ be used for the URL at which this distribution is available directly, typically through a HTTPS GET request or SFTP.\n",
    "  - `accessUrl`: A URL of the resource that gives access to a distribution of the dataset. E.g. landing page, feed, SPARQL endpoint.\n",
    "\n",
    "    Usage: `accessURL` _SHOULD_ be used for the URL of a service or location that can provide access to this distribution, typically through a Web form, query or API call.  \n",
    "    `downloadURL` is preferred for direct links to downloadable resources.\n",
    "- `mediaType`: The media type of the distribution as defined by IANA [[IANA-MEDIA-TYPES](https://www.w3.org/TR/vocab-dcat-2/#bib-iana-media-types)].\n",
    "\n",
    "  Usage: This property _SHOULD_ be used when the media type of the distribution is defined in IANA [[IANA-MEDIA-TYPES](https://www.w3.org/TR/vocab-dcat-2/#bib-iana-media-types)].\n",
    "- `accessService`: A data service that gives access to the distribution of the dataset.\n",
    "\n",
    "It is worth noting that the resource configuration **MUST** contain either `downloadUrl` _and_ `mediaType` **or** `accessUrl` _and_ `accessService`.\n",
    "It may contain any combination otherwise, but a minimum of one of the two combinations is required.\n",
    "\n",
    "The part described up to now defines the \"data source\" part of the SOFT7 data source.\n",
    "Furthermore, based on either `mediaType` or `accessService` the \"generic parser\" part of the SOFT7 data source is determined.\n",
    "\n",
    "To supply a parser configuration, one needs to know the generic parser that will be used, as well as the specific data to be retrieved.\n",
    "Under \"normal\" circumstances, the parser configuration is stored alongside a reference to the data source for easy reusability.\n",
    "\n",
    "Finally, a SOFT7 entity (or data model) is required to base the generated SOFT7 Data Source instance on.\n",
    "Again, under \"normal\" circumstances, the SOFT7 entity is stored alongside a reference to the data source for easy reusability."
   ]
  },
  {
   "cell_type": "markdown",
   "metadata": {},
   "source": [
    "### Example of generating a SOFT7 Data Source\n",
    "\n",
    "The following example shows how to generate a SOFT7 Data Source instance based on the parts described above."
   ]
  },
  {
   "cell_type": "code",
   "execution_count": 1,
   "metadata": {},
   "outputs": [],
   "source": [
    "import logging\n",
    "\n",
    "logging.getLogger(\"s7\").addHandler(logging.StreamHandler())"
   ]
  },
  {
   "cell_type": "code",
   "execution_count": 1,
   "metadata": {},
   "outputs": [
    {
     "name": "stdout",
     "output_type": "stream",
     "text": [
      "{'type': FieldInfo(annotation=str, required=True, title='type', description=\"The name of the type of an entry. Must always be 'structures'.\", json_schema_extra={}), 'attributes': FieldInfo(annotation=SOFT7DataSource, required=True, title='attributes', description='The attributes used to represent a structure, e.g. unit cell, atoms, positions.', json_schema_extra={}), 'id': FieldInfo(annotation=str, required=True, title='id', description=\"An entry's ID as defined in section Definition of Terms.\", json_schema_extra={})}\n"
     ]
    }
   ],
   "source": [
    "from s7.factories import create_entity\n",
    "\n",
    "OPTIMADEStructure = create_entity(\"http://onto-ns.com/meta/1.0/OPTIMADEStructure\")\n",
    "print(OPTIMADEStructure.model_fields[\"properties\"].annotation.model_fields)"
   ]
  },
  {
   "cell_type": "code",
   "execution_count": 2,
   "metadata": {},
   "outputs": [
    {
     "name": "stderr",
     "output_type": "stream",
     "text": [
      "Client <otelib.client.OTEClient object at 0x7fd90354ed00>\n",
      "Data resource <otelib.backends.services.dataresource.DataResource object at 0x7fd90341bfd0>\n",
      "Result {'optimade_config': None, 'optimade_response_model': ['optimade.models.optimade_json', 'Success'], 'optimade_response': {'data': {'id': 'mp-1228448', 'type': 'structures', 'attributes': {'immutable_id': '645d307dbcd30f748b48eefb', 'last_modified': '2021-02-10T01:38:17Z', 'elements': ['Al', 'O'], 'nelements': 2, 'elements_ratios': [0.4, 0.6], 'chemical_formula_descriptive': 'Al2O3', 'chemical_formula_reduced': 'Al2O3', 'chemical_formula_hill': 'Al2O3', 'chemical_formula_anonymous': 'A3B2', 'dimension_types': [1, 1, 1], 'nperiodic_dimensions': 3, 'lattice_vectors': [[-1.508747, -2.6132, 0.000129], [-1.508747, 2.6132, -0.000129], [0.0, 0.000184, -7.574636]], 'cartesian_site_positions': [[-1.508747, 2.6132805930160004, -5.469387346584], [-1.508747, -2.613096593016, -2.105248653416], [-1.508747, -0.8710047307360002, -6.063801547042], [-1.508747, 0.8711887307360001, -1.510834452958], [0.0, 9.2e-05, -3.787318]], 'nsites': 5, 'species': [{'name': 'Al', 'chemical_symbols': ['Al'], 'concentration': [1.0], 'mass': None, 'original_name': None, 'attached': None, 'nattached': None}, {'name': 'O', 'chemical_symbols': ['O'], 'concentration': [1.0], 'mass': None, 'original_name': None, 'attached': None, 'nattached': None}], 'species_at_sites': ['Al', 'Al', 'O', 'O', 'O'], 'assemblies': None, 'structure_features': [], '_mp_chemical_system': 'Al-O', '_mp_stability': {'gga_gga+u_r2scan': {'thermo_id': 'mp-1228448_GGA_GGA+U_R2SCAN', 'energy_above_hull': 0.24282121300000004, 'formation_energy_per_atom': -3.1811481644999993, 'last_updated_thermo': '2023-04-27T01:10:14Z'}, 'gga_gga+u': {'thermo_id': 'mp-1228448_GGA_GGA+U', 'energy_above_hull': 0.24282121300000004, 'formation_energy_per_atom': -3.1844931712499998, 'last_updated_thermo': '2023-04-27T01:10:27Z'}}}}, 'meta': {'query': {'representation': '/structures/mp-1228448?'}, 'api_version': '1.1.0', 'more_data_available': False, 'optimade_schema': 'https://schemas.optimade.org/openapi/v1.1.0/optimade.json', 'time_stamp': '2023-11-12T19:21:01Z', 'data_returned': 1, 'provider': {'name': 'Materials Project - OPTIMADE', 'description': 'The Materials Project OPTIMADE endpoint', 'prefix': 'mp', 'homepage': 'https://materialsproject.org/'}, 'data_available': 154387, 'implementation': {'name': 'OPTIMADE Python Tools', 'version': '0.25.3', 'source_url': 'https://github.com/Materials-Consortia/optimade-python-tools', 'maintainer': {'email': 'dev@optimade.org'}, 'issue_tracker': 'https://github.com/Materials-Consortia/optimade-python-tools/issues'}}, 'included': [], 'links': {'next': None}}}\n",
      "category properties\n",
      "Data PydanticUndefined\n",
      "Client <otelib.client.OTEClient object at 0x7fd9034b3700>\n",
      "Data resource <otelib.backends.services.dataresource.DataResource object at 0x7fd90371c8e0>\n",
      "Result {'optimade_config': None, 'optimade_response_model': ['optimade.models.optimade_json', 'Success'], 'optimade_response': {'data': {'id': 'mp-1228448', 'type': 'structures', 'attributes': {'immutable_id': '645d307dbcd30f748b48eefb', 'last_modified': '2021-02-10T01:38:17Z', 'elements': ['Al', 'O'], 'nelements': 2, 'elements_ratios': [0.4, 0.6], 'chemical_formula_descriptive': 'Al2O3', 'chemical_formula_reduced': 'Al2O3', 'chemical_formula_hill': 'Al2O3', 'chemical_formula_anonymous': 'A3B2', 'dimension_types': [1, 1, 1], 'nperiodic_dimensions': 3, 'lattice_vectors': [[-1.508747, -2.6132, 0.000129], [-1.508747, 2.6132, -0.000129], [0.0, 0.000184, -7.574636]], 'cartesian_site_positions': [[-1.508747, 2.6132805930160004, -5.469387346584], [-1.508747, -2.613096593016, -2.105248653416], [-1.508747, -0.8710047307360002, -6.063801547042], [-1.508747, 0.8711887307360001, -1.510834452958], [0.0, 9.2e-05, -3.787318]], 'nsites': 5, 'species': [{'name': 'Al', 'chemical_symbols': ['Al'], 'concentration': [1.0], 'mass': None, 'original_name': None, 'attached': None, 'nattached': None}, {'name': 'O', 'chemical_symbols': ['O'], 'concentration': [1.0], 'mass': None, 'original_name': None, 'attached': None, 'nattached': None}], 'species_at_sites': ['Al', 'Al', 'O', 'O', 'O'], 'assemblies': None, 'structure_features': [], '_mp_chemical_system': 'Al-O', '_mp_stability': {'gga_gga+u_r2scan': {'thermo_id': 'mp-1228448_GGA_GGA+U_R2SCAN', 'energy_above_hull': 0.24282121300000004, 'formation_energy_per_atom': -3.1811481644999993, 'last_updated_thermo': '2023-04-27T01:10:14Z'}, 'gga_gga+u': {'thermo_id': 'mp-1228448_GGA_GGA+U', 'energy_above_hull': 0.24282121300000004, 'formation_energy_per_atom': -3.1844931712499998, 'last_updated_thermo': '2023-04-27T01:10:27Z'}}}}, 'meta': {'query': {'representation': '/structures/mp-1228448?'}, 'api_version': '1.1.0', 'more_data_available': False, 'optimade_schema': 'https://schemas.optimade.org/openapi/v1.1.0/optimade.json', 'time_stamp': '2023-11-12T19:21:03Z', 'data_returned': 1, 'provider': {'name': 'Materials Project - OPTIMADE', 'description': 'The Materials Project OPTIMADE endpoint', 'prefix': 'mp', 'homepage': 'https://materialsproject.org/'}, 'data_available': 154387, 'implementation': {'name': 'OPTIMADE Python Tools', 'version': '0.25.3', 'source_url': 'https://github.com/Materials-Consortia/optimade-python-tools', 'maintainer': {'email': 'dev@optimade.org'}, 'issue_tracker': 'https://github.com/Materials-Consortia/optimade-python-tools/issues'}}, 'included': [], 'links': {'next': None}}}\n",
      "category properties\n",
      "Data PydanticUndefined\n",
      "Client <otelib.client.OTEClient object at 0x7fd903794b50>\n",
      "Data resource <otelib.backends.services.dataresource.DataResource object at 0x7fd9033abe50>\n",
      "Result {'optimade_config': None, 'optimade_response_model': ['optimade.models.optimade_json', 'Success'], 'optimade_response': {'data': {'id': 'mp-1228448', 'type': 'structures', 'attributes': {'immutable_id': '645d307dbcd30f748b48eefb', 'last_modified': '2021-02-10T01:38:17Z', 'elements': ['Al', 'O'], 'nelements': 2, 'elements_ratios': [0.4, 0.6], 'chemical_formula_descriptive': 'Al2O3', 'chemical_formula_reduced': 'Al2O3', 'chemical_formula_hill': 'Al2O3', 'chemical_formula_anonymous': 'A3B2', 'dimension_types': [1, 1, 1], 'nperiodic_dimensions': 3, 'lattice_vectors': [[-1.508747, -2.6132, 0.000129], [-1.508747, 2.6132, -0.000129], [0.0, 0.000184, -7.574636]], 'cartesian_site_positions': [[-1.508747, 2.6132805930160004, -5.469387346584], [-1.508747, -2.613096593016, -2.105248653416], [-1.508747, -0.8710047307360002, -6.063801547042], [-1.508747, 0.8711887307360001, -1.510834452958], [0.0, 9.2e-05, -3.787318]], 'nsites': 5, 'species': [{'name': 'Al', 'chemical_symbols': ['Al'], 'concentration': [1.0], 'mass': None, 'original_name': None, 'attached': None, 'nattached': None}, {'name': 'O', 'chemical_symbols': ['O'], 'concentration': [1.0], 'mass': None, 'original_name': None, 'attached': None, 'nattached': None}], 'species_at_sites': ['Al', 'Al', 'O', 'O', 'O'], 'assemblies': None, 'structure_features': [], '_mp_chemical_system': 'Al-O', '_mp_stability': {'gga_gga+u_r2scan': {'thermo_id': 'mp-1228448_GGA_GGA+U_R2SCAN', 'energy_above_hull': 0.24282121300000004, 'formation_energy_per_atom': -3.1811481644999993, 'last_updated_thermo': '2023-04-27T01:10:14Z'}, 'gga_gga+u': {'thermo_id': 'mp-1228448_GGA_GGA+U', 'energy_above_hull': 0.24282121300000004, 'formation_energy_per_atom': -3.1844931712499998, 'last_updated_thermo': '2023-04-27T01:10:27Z'}}}}, 'meta': {'query': {'representation': '/structures/mp-1228448?'}, 'api_version': '1.1.0', 'more_data_available': False, 'optimade_schema': 'https://schemas.optimade.org/openapi/v1.1.0/optimade.json', 'time_stamp': '2023-11-12T19:21:03Z', 'data_returned': 1, 'provider': {'name': 'Materials Project - OPTIMADE', 'description': 'The Materials Project OPTIMADE endpoint', 'prefix': 'mp', 'homepage': 'https://materialsproject.org/'}, 'data_available': 154387, 'implementation': {'name': 'OPTIMADE Python Tools', 'version': '0.25.3', 'source_url': 'https://github.com/Materials-Consortia/optimade-python-tools', 'maintainer': {'email': 'dev@optimade.org'}, 'issue_tracker': 'https://github.com/Materials-Consortia/optimade-python-tools/issues'}}, 'included': [], 'links': {'next': None}}}\n",
      "category properties\n",
      "Data PydanticUndefined\n"
     ]
    }
   ],
   "source": [
    "import os\n",
    "\n",
    "from s7.factories import create_datasource\n",
    "\n",
    "os.environ[\"OTELIB_DEBUG\"] = \"true\"\n",
    "\n",
    "datasource = create_datasource(\n",
    "    entity=\"http://onto-ns.com/meta/1.0/OPTIMADEStructure\",\n",
    "    resource_config={\n",
    "        \"downloadUrl\": \"https://optimade.materialsproject.org/v1/structures/mp-1228448\",\n",
    "        \"mediaType\": \"application/json\",\n",
    "    },\n",
    ")\n"
   ]
  },
  {
   "cell_type": "code",
   "execution_count": 19,
   "metadata": {},
   "outputs": [
    {
     "data": {
      "text/plain": [
       "OPTIMADEStructure(type=<function _get_data.<locals>.__get_data at 0x7f329c5915e0>, attributes=<function _get_data.<locals>.__get_data at 0x7f32a06289d0>, id=<function _get_data.<locals>.__get_data at 0x7f3284fc3700>)"
      ]
     },
     "execution_count": 19,
     "metadata": {},
     "output_type": "execute_result"
    }
   ],
   "source": [
    "datasource"
   ]
  },
  {
   "cell_type": "code",
   "execution_count": null,
   "metadata": {},
   "outputs": [],
   "source": []
  }
 ],
 "metadata": {
  "kernelspec": {
   "display_name": "soft",
   "language": "python",
   "name": "python3"
  },
  "language_info": {
   "codemirror_mode": {
    "name": "ipython",
    "version": 3
   },
   "file_extension": ".py",
   "mimetype": "text/x-python",
   "name": "python",
   "nbconvert_exporter": "python",
   "pygments_lexer": "ipython3",
   "version": "3.9.12"
  }
 },
 "nbformat": 4,
 "nbformat_minor": 2
}
