{
 "cells": [
  {
   "cell_type": "markdown",
   "metadata": {},
   "source": [
    "# SOFT7 Data Source\n",
    "\n",
    "This notebook contains examples related to the SOFT7 data source.\n",
    "How to create, manage, resolve, and use SOFT7 data sources."
   ]
  },
  {
   "cell_type": "markdown",
   "metadata": {},
   "source": [
    "## Generate a SOFT7 Data Source\n",
    "\n",
    "SOFT7 Data Source instances can be generated based on information from the following parts:\n",
    "\n",
    "1. Data source (DB, File, Webpage, ...).\n",
    "2. Generic data source parser.\n",
    "3. Data source parser configuration.\n",
    "4. SOFT7 entity (data model).\n",
    "\n",
    "Parts 2 and 3 are together considered to produce the \"specific parser\".\n",
    "Parts 1 through 3 are provided as a collective, based on the [`ResourceConfig`](https://emmc-asbl.github.io/oteapi-core/latest/all_models/#oteapi.models.ResourceConfig) from [OTEAPI Core](https://emmc-asbl.github.io/oteapi-core/)."
   ]
  },
  {
   "cell_type": "markdown",
   "metadata": {},
   "source": [
    "### Resource configuration\n",
    "\n",
    "The resource configuration, originally based on the [Data Catalog Vocabulary (DCAT)](https://www.w3.org/TR/vocab-dcat-3/), is in this case a small set of data catalog fields mapped to resource-specific values:\n",
    "\n",
    "- `downloadUrl` or `accessUrl`:\n",
    "  - `downloadUrl`: The URL of the downloadable file in a given format. E.g. CSV file or RDF file.\n",
    "\n",
    "    Usage: `downloadURL` _SHOULD_ be used for the URL at which this distribution is available directly, typically through a HTTPS GET request or SFTP.\n",
    "  - `accessUrl`: A URL of the resource that gives access to a distribution of the dataset. E.g. landing page, feed, SPARQL endpoint.\n",
    "\n",
    "    Usage: `accessURL` _SHOULD_ be used for the URL of a service or location that can provide access to this distribution, typically through a Web form, query or API call.  \n",
    "    `downloadURL` is preferred for direct links to downloadable resources.\n",
    "- `mediaType`: The media type of the distribution as defined by IANA [[IANA-MEDIA-TYPES](https://www.w3.org/TR/vocab-dcat-2/#bib-iana-media-types)].\n",
    "\n",
    "  Usage: This property _SHOULD_ be used when the media type of the distribution is defined in IANA [[IANA-MEDIA-TYPES](https://www.w3.org/TR/vocab-dcat-2/#bib-iana-media-types)].\n",
    "- `accessService`: A data service that gives access to the distribution of the dataset.\n",
    "\n",
    "It is worth noting that the resource configuration **MUST** contain either `downloadUrl` _and_ `mediaType` **or** `accessUrl` _and_ `accessService`.\n",
    "It may contain any combination otherwise, but a minimum of one of the two combinations is required.\n",
    "\n",
    "The part described up to now defines the \"data source\" part of the SOFT7 data source.\n",
    "Furthermore, based on either `mediaType` or `accessService` the \"generic parser\" part of the SOFT7 data source is determined.\n",
    "\n",
    "To supply a parser configuration, one needs to know the generic parser that will be used, as well as the specific data to be retrieved.\n",
    "Under \"normal\" circumstances, the parser configuration is stored alongside a reference to the data source for easy reusability.\n",
    "\n",
    "Finally, a SOFT7 entity (or data model) is required to base the generated SOFT7 Data Source instance on.\n",
    "Again, under \"normal\" circumstances, the SOFT7 entity is stored alongside a reference to the data source for easy reusability."
   ]
  },
  {
   "cell_type": "markdown",
   "metadata": {},
   "source": [
    "### Example of generating a SOFT7 Data Source\n",
    "\n",
    "The following example shows how to generate a SOFT7 Data Source instance based on the parts described above."
   ]
  },
  {
   "cell_type": "code",
   "execution_count": 1,
   "metadata": {},
   "outputs": [],
   "source": [
    "import logging\n",
    "\n",
    "logging.getLogger(\"s7\").addHandler(logging.StreamHandler())"
   ]
  },
  {
   "cell_type": "code",
   "execution_count": 2,
   "metadata": {},
   "outputs": [
    {
     "name": "stderr",
     "output_type": "stream",
     "text": [
      "Client <otelib.client.OTEClient object at 0x7fd94b159ba0>\n",
      "Data resource <otelib.backends.python.dataresource.DataResource object at 0x7fd94af29db0>\n",
      "Result {'content': {'data': {'id': 'mp-1228448', 'type': 'structures', 'attributes': {'immutable_id': '645d307dbcd30f748b48eefb', 'last_modified': '2021-02-10T01:38:17Z', 'elements': ['Al', 'O'], 'nelements': 2, 'elements_ratios': [0.4, 0.6], 'chemical_formula_descriptive': 'Al2O3', 'chemical_formula_reduced': 'Al2O3', 'chemical_formula_hill': 'Al2O3', 'chemical_formula_anonymous': 'A3B2', 'dimension_types': [1, 1, 1], 'nperiodic_dimensions': 3, 'lattice_vectors': [[-1.508747, -2.6132, 0.000129], [-1.508747, 2.6132, -0.000129], [0.0, 0.000184, -7.574636]], 'cartesian_site_positions': [[-1.508747, 2.6132805930160004, -5.469387346584], [-1.508747, -2.613096593016, -2.105248653416], [-1.508747, -0.8710047307360002, -6.063801547042], [-1.508747, 0.8711887307360001, -1.510834452958], [0.0, 9.2e-05, -3.787318]], 'nsites': 5, 'species': [{'name': 'Al', 'chemical_symbols': ['Al'], 'concentration': [1.0], 'mass': None, 'original_name': None, 'attached': None, 'nattached': None}, {'name': 'O', 'chemical_symbols': ['O'], 'concentration': [1.0], 'mass': None, 'original_name': None, 'attached': None, 'nattached': None}], 'species_at_sites': ['Al', 'Al', 'O', 'O', 'O'], 'assemblies': None, 'structure_features': [], '_mp_chemical_system': 'Al-O', '_mp_stability': {'gga_gga+u_r2scan': {'thermo_id': 'mp-1228448_GGA_GGA+U_R2SCAN', 'energy_above_hull': 0.24282121300000004, 'formation_energy_per_atom': -3.1811481644999993, 'last_updated_thermo': '2023-04-27T01:10:14Z'}, 'gga_gga+u': {'thermo_id': 'mp-1228448_GGA_GGA+U', 'energy_above_hull': 0.24282121300000004, 'formation_energy_per_atom': -3.1844931712499998, 'last_updated_thermo': '2023-04-27T01:10:27Z'}}}}, 'meta': {'query': {'representation': '/structures/mp-1228448?'}, 'api_version': '1.1.0', 'more_data_available': False, 'schema': 'https://schemas.optimade.org/openapi/v1.1.0/optimade.json', 'time_stamp': '2023-11-07T15:05:13Z', 'data_returned': 1, 'provider': {'name': 'Materials Project - OPTIMADE', 'description': 'The Materials Project OPTIMADE endpoint', 'prefix': 'mp', 'homepage': 'https://materialsproject.org'}, 'data_available': 154387, 'implementation': {'name': 'OPTIMADE Python Tools', 'version': '0.25.3', 'source_url': 'https://github.com/Materials-Consortia/optimade-python-tools', 'maintainer': {'email': 'dev@optimade.org'}, 'issue_tracker': 'https://github.com/Materials-Consortia/optimade-python-tools/issues'}}, 'included': [], 'links': {'next': None}}}\n",
      "Data PydanticUndefined\n",
      "Client <otelib.client.OTEClient object at 0x7fd94b0c6c80>\n",
      "Data resource <otelib.backends.python.dataresource.DataResource object at 0x7fd94af600a0>\n",
      "Result {'content': {'data': {'id': 'mp-1228448', 'type': 'structures', 'attributes': {'immutable_id': '645d307dbcd30f748b48eefb', 'last_modified': '2021-02-10T01:38:17Z', 'elements': ['Al', 'O'], 'nelements': 2, 'elements_ratios': [0.4, 0.6], 'chemical_formula_descriptive': 'Al2O3', 'chemical_formula_reduced': 'Al2O3', 'chemical_formula_hill': 'Al2O3', 'chemical_formula_anonymous': 'A3B2', 'dimension_types': [1, 1, 1], 'nperiodic_dimensions': 3, 'lattice_vectors': [[-1.508747, -2.6132, 0.000129], [-1.508747, 2.6132, -0.000129], [0.0, 0.000184, -7.574636]], 'cartesian_site_positions': [[-1.508747, 2.6132805930160004, -5.469387346584], [-1.508747, -2.613096593016, -2.105248653416], [-1.508747, -0.8710047307360002, -6.063801547042], [-1.508747, 0.8711887307360001, -1.510834452958], [0.0, 9.2e-05, -3.787318]], 'nsites': 5, 'species': [{'name': 'Al', 'chemical_symbols': ['Al'], 'concentration': [1.0], 'mass': None, 'original_name': None, 'attached': None, 'nattached': None}, {'name': 'O', 'chemical_symbols': ['O'], 'concentration': [1.0], 'mass': None, 'original_name': None, 'attached': None, 'nattached': None}], 'species_at_sites': ['Al', 'Al', 'O', 'O', 'O'], 'assemblies': None, 'structure_features': [], '_mp_chemical_system': 'Al-O', '_mp_stability': {'gga_gga+u_r2scan': {'thermo_id': 'mp-1228448_GGA_GGA+U_R2SCAN', 'energy_above_hull': 0.24282121300000004, 'formation_energy_per_atom': -3.1811481644999993, 'last_updated_thermo': '2023-04-27T01:10:14Z'}, 'gga_gga+u': {'thermo_id': 'mp-1228448_GGA_GGA+U', 'energy_above_hull': 0.24282121300000004, 'formation_energy_per_atom': -3.1844931712499998, 'last_updated_thermo': '2023-04-27T01:10:27Z'}}}}, 'meta': {'query': {'representation': '/structures/mp-1228448?'}, 'api_version': '1.1.0', 'more_data_available': False, 'schema': 'https://schemas.optimade.org/openapi/v1.1.0/optimade.json', 'time_stamp': '2023-11-07T15:05:14Z', 'data_returned': 1, 'provider': {'name': 'Materials Project - OPTIMADE', 'description': 'The Materials Project OPTIMADE endpoint', 'prefix': 'mp', 'homepage': 'https://materialsproject.org'}, 'data_available': 154387, 'implementation': {'name': 'OPTIMADE Python Tools', 'version': '0.25.3', 'source_url': 'https://github.com/Materials-Consortia/optimade-python-tools', 'maintainer': {'email': 'dev@optimade.org'}, 'issue_tracker': 'https://github.com/Materials-Consortia/optimade-python-tools/issues'}}, 'included': [], 'links': {'next': None}}}\n",
      "Data PydanticUndefined\n",
      "Client <otelib.client.OTEClient object at 0x7fd94af62170>\n",
      "Data resource <otelib.backends.python.dataresource.DataResource object at 0x7fd94aef1270>\n",
      "Result {'content': {'data': {'id': 'mp-1228448', 'type': 'structures', 'attributes': {'immutable_id': '645d307dbcd30f748b48eefb', 'last_modified': '2021-02-10T01:38:17Z', 'elements': ['Al', 'O'], 'nelements': 2, 'elements_ratios': [0.4, 0.6], 'chemical_formula_descriptive': 'Al2O3', 'chemical_formula_reduced': 'Al2O3', 'chemical_formula_hill': 'Al2O3', 'chemical_formula_anonymous': 'A3B2', 'dimension_types': [1, 1, 1], 'nperiodic_dimensions': 3, 'lattice_vectors': [[-1.508747, -2.6132, 0.000129], [-1.508747, 2.6132, -0.000129], [0.0, 0.000184, -7.574636]], 'cartesian_site_positions': [[-1.508747, 2.6132805930160004, -5.469387346584], [-1.508747, -2.613096593016, -2.105248653416], [-1.508747, -0.8710047307360002, -6.063801547042], [-1.508747, 0.8711887307360001, -1.510834452958], [0.0, 9.2e-05, -3.787318]], 'nsites': 5, 'species': [{'name': 'Al', 'chemical_symbols': ['Al'], 'concentration': [1.0], 'mass': None, 'original_name': None, 'attached': None, 'nattached': None}, {'name': 'O', 'chemical_symbols': ['O'], 'concentration': [1.0], 'mass': None, 'original_name': None, 'attached': None, 'nattached': None}], 'species_at_sites': ['Al', 'Al', 'O', 'O', 'O'], 'assemblies': None, 'structure_features': [], '_mp_chemical_system': 'Al-O', '_mp_stability': {'gga_gga+u_r2scan': {'thermo_id': 'mp-1228448_GGA_GGA+U_R2SCAN', 'energy_above_hull': 0.24282121300000004, 'formation_energy_per_atom': -3.1811481644999993, 'last_updated_thermo': '2023-04-27T01:10:14Z'}, 'gga_gga+u': {'thermo_id': 'mp-1228448_GGA_GGA+U', 'energy_above_hull': 0.24282121300000004, 'formation_energy_per_atom': -3.1844931712499998, 'last_updated_thermo': '2023-04-27T01:10:27Z'}}}}, 'meta': {'query': {'representation': '/structures/mp-1228448?'}, 'api_version': '1.1.0', 'more_data_available': False, 'schema': 'https://schemas.optimade.org/openapi/v1.1.0/optimade.json', 'time_stamp': '2023-11-07T15:05:15Z', 'data_returned': 1, 'provider': {'name': 'Materials Project - OPTIMADE', 'description': 'The Materials Project OPTIMADE endpoint', 'prefix': 'mp', 'homepage': 'https://materialsproject.org'}, 'data_available': 154387, 'implementation': {'name': 'OPTIMADE Python Tools', 'version': '0.25.3', 'source_url': 'https://github.com/Materials-Consortia/optimade-python-tools', 'maintainer': {'email': 'dev@optimade.org'}, 'issue_tracker': 'https://github.com/Materials-Consortia/optimade-python-tools/issues'}}, 'included': [], 'links': {'next': None}}}\n",
      "Data PydanticUndefined\n"
     ]
    }
   ],
   "source": [
    "from s7.factories import create_datasource\n",
    "\n",
    "datasource = create_datasource(\n",
    "    entity=\"http://onto-ns.com/meta/1.0/OPTIMADEStructure\",\n",
    "    resource_config={\n",
    "        \"downloadUrl\": \"https://optimade.materialsproject.org/v1/structures/mp-1228448\",\n",
    "        \"mediaType\": \"application/json\",\n",
    "    },\n",
    "    oteapi_url=\"python\",\n",
    ")"
   ]
  },
  {
   "cell_type": "code",
   "execution_count": 11,
   "metadata": {},
   "outputs": [
    {
     "ename": "AttributeError",
     "evalue": "",
     "output_type": "error",
     "traceback": [
      "\u001b[0;31m---------------------------------------------------------------------------\u001b[0m",
      "\u001b[0;31mAttributeError\u001b[0m                            Traceback (most recent call last)",
      "File \u001b[0;32m~/venvs/soft/soft7/s7/pydantic_models/soft7_entity.py:154\u001b[0m, in \u001b[0;36mCallableAttributesMixin.__getattribute__\u001b[0;34m(self, name)\u001b[0m\n\u001b[1;32m    153\u001b[0m \u001b[39mif\u001b[39;00m name \u001b[39min\u001b[39;00m \u001b[39mobject\u001b[39m\u001b[39m.\u001b[39m\u001b[39m__getattribute__\u001b[39m(\u001b[39mself\u001b[39m, \u001b[39m\"\u001b[39m\u001b[39mmodel_fields\u001b[39m\u001b[39m\"\u001b[39m):\n\u001b[0;32m--> 154\u001b[0m     resolved_attr_value \u001b[39m=\u001b[39m attr_value(soft7_property\u001b[39m=\u001b[39;49mname)\n\u001b[1;32m    156\u001b[0m     \u001b[39m# Use TypeAdapter to return and validate the value against the\u001b[39;00m\n\u001b[1;32m    157\u001b[0m     \u001b[39m# generated type. This effectively validates the shape and\u001b[39;00m\n\u001b[1;32m    158\u001b[0m     \u001b[39m# dimensionality of the value, as well as the inner most expected type.\u001b[39;00m\n",
      "File \u001b[0;32m~/venvs/soft/soft7/s7/factories/datasource_factory.py:109\u001b[0m, in \u001b[0;36m_get_data.<locals>.__get_data\u001b[0;34m(soft7_property)\u001b[0m\n\u001b[1;32m    107\u001b[0m         \u001b[39mreturn\u001b[39;00m \u001b[39mNone\u001b[39;00m\n\u001b[0;32m--> 109\u001b[0m     \u001b[39mraise\u001b[39;00m \u001b[39mAttributeError\u001b[39;00m(\n\u001b[1;32m    110\u001b[0m         \u001b[39mf\u001b[39m\u001b[39m\"\u001b[39m\u001b[39m{\u001b[39;00msoft7_property\u001b[39m!r}\u001b[39;00m\u001b[39m is not defined for the resource\u001b[39m\u001b[39m'\u001b[39m\u001b[39ms \u001b[39m\u001b[39m{\u001b[39;00mcategory\u001b[39m}\u001b[39;00m\u001b[39m\"\u001b[39m\n\u001b[1;32m    111\u001b[0m     )\n\u001b[1;32m    113\u001b[0m \u001b[39mif\u001b[39;00m soft7_property \u001b[39min\u001b[39;00m data:\n",
      "\u001b[0;31mAttributeError\u001b[0m: 'type' is not defined for the resource's properties",
      "\nThe above exception was the direct cause of the following exception:\n",
      "\u001b[0;31mAttributeError\u001b[0m                            Traceback (most recent call last)",
      "\u001b[1;32m/home/cwa/venvs/soft/soft7/docs/examples/datasource.ipynb Cell 6\u001b[0m line \u001b[0;36m1\n\u001b[0;32m----> <a href='vscode-notebook-cell://wsl%2Bubuntu-20.04/home/cwa/venvs/soft/soft7/docs/examples/datasource.ipynb#W5sdnNjb2RlLXJlbW90ZQ%3D%3D?line=0'>1</a>\u001b[0m datasource\u001b[39m.\u001b[39;49m\u001b[39m__getattribute__\u001b[39;49m(\u001b[39m\"\u001b[39;49m\u001b[39mtype\u001b[39;49m\u001b[39m\"\u001b[39;49m)\n",
      "File \u001b[0;32m~/venvs/soft/soft7/s7/pydantic_models/soft7_entity.py:167\u001b[0m, in \u001b[0;36mCallableAttributesMixin.__getattribute__\u001b[0;34m(self, name)\u001b[0m\n\u001b[1;32m    165\u001b[0m     \u001b[39mreturn\u001b[39;00m attr_value\n\u001b[1;32m    166\u001b[0m \u001b[39mexcept\u001b[39;00m \u001b[39mException\u001b[39;00m \u001b[39mas\u001b[39;00m exc:\n\u001b[0;32m--> 167\u001b[0m     \u001b[39mraise\u001b[39;00m \u001b[39mAttributeError\u001b[39;00m \u001b[39mfrom\u001b[39;00m \u001b[39mexc\u001b[39;00m\n",
      "\u001b[0;31mAttributeError\u001b[0m: "
     ]
    }
   ],
   "source": [
    "datasource.__getattribute__(\"type\")"
   ]
  },
  {
   "cell_type": "code",
   "execution_count": null,
   "metadata": {},
   "outputs": [],
   "source": []
  }
 ],
 "metadata": {
  "kernelspec": {
   "display_name": "soft",
   "language": "python",
   "name": "python3"
  },
  "language_info": {
   "codemirror_mode": {
    "name": "ipython",
    "version": 3
   },
   "file_extension": ".py",
   "mimetype": "text/x-python",
   "name": "python",
   "nbconvert_exporter": "python",
   "pygments_lexer": "ipython3",
   "version": "3.10.13"
  }
 },
 "nbformat": 4,
 "nbformat_minor": 2
}
