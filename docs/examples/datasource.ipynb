{
 "cells": [
  {
   "cell_type": "markdown",
   "metadata": {},
   "source": [
    "# SOFT7 Data Source\n",
    "\n",
    "This notebook contains examples related to the SOFT7 data source.\n",
    "How to create, manage, resolve, and use SOFT7 data sources."
   ]
  },
  {
   "cell_type": "markdown",
   "metadata": {},
   "source": [
    "## Generate a SOFT7 Data Source\n",
    "\n",
    "SOFT7 Data Source instances can be generated based on information from the following parts:\n",
    "\n",
    "1. Data source (DB, File, Webpage, ...).\n",
    "2. Generic data source parser.\n",
    "3. Data source parser configuration.\n",
    "4. SOFT7 entity (data model).\n",
    "\n",
    "Parts 2 and 3 are together considered to produce the \"specific parser\".\n",
    "Parts 1 through 3 are provided as a collective, based on the [`ResourceConfig`](https://emmc-asbl.github.io/oteapi-core/latest/all_models/#oteapi.models.ResourceConfig) from [OTEAPI Core](https://emmc-asbl.github.io/oteapi-core/)."
   ]
  },
  {
   "cell_type": "markdown",
   "metadata": {},
   "source": [
    "### Resource configuration\n",
    "\n",
    "The resource configuration, originally based on the [Data Catalog Vocabulary (DCAT)](https://www.w3.org/TR/vocab-dcat-3/), is in this case a small set of data catalog fields mapped to resource-specific values:\n",
    "\n",
    "- `downloadUrl` or `accessUrl`:\n",
    "  - `downloadUrl`: The URL of the downloadable file in a given format. E.g. CSV file or RDF file.\n",
    "\n",
    "    Usage: `downloadURL` _SHOULD_ be used for the URL at which this distribution is available directly, typically through a HTTPS GET request or SFTP.\n",
    "  - `accessUrl`: A URL of the resource that gives access to a distribution of the dataset. E.g. landing page, feed, SPARQL endpoint.\n",
    "\n",
    "    Usage: `accessURL` _SHOULD_ be used for the URL of a service or location that can provide access to this distribution, typically through a Web form, query or API call.  \n",
    "    `downloadURL` is preferred for direct links to downloadable resources.\n",
    "- `mediaType`: The media type of the distribution as defined by IANA [[IANA-MEDIA-TYPES](https://www.w3.org/TR/vocab-dcat-2/#bib-iana-media-types)].\n",
    "\n",
    "  Usage: This property _SHOULD_ be used when the media type of the distribution is defined in IANA [[IANA-MEDIA-TYPES](https://www.w3.org/TR/vocab-dcat-2/#bib-iana-media-types)].\n",
    "- `accessService`: A data service that gives access to the distribution of the dataset.\n",
    "\n",
    "It is worth noting that the resource configuration **MUST** contain either `downloadUrl` _and_ `mediaType` **or** `accessUrl` _and_ `accessService`.\n",
    "It may contain any combination otherwise, but a minimum of one of the two combinations is required.\n",
    "\n",
    "The part described up to now defines the \"data source\" part of the SOFT7 data source.\n",
    "Furthermore, based on either `mediaType` or `accessService` the \"generic parser\" part of the SOFT7 data source is determined.\n",
    "\n",
    "To supply a parser configuration, one needs to know the generic parser that will be used, as well as the specific data to be retrieved.\n",
    "Under \"normal\" circumstances, the parser configuration is stored alongside a reference to the data source for easy reusability.\n",
    "\n",
    "Finally, a SOFT7 entity (or data model) is required to base the generated SOFT7 Data Source instance on.\n",
    "Again, under \"normal\" circumstances, the SOFT7 entity is stored alongside a reference to the data source for easy reusability."
   ]
  },
  {
   "cell_type": "markdown",
   "metadata": {},
   "source": [
    "### Example of generating a SOFT7 Data Source\n",
    "\n",
    "The following example shows how to generate a SOFT7 Data Source instance based on the parts described above."
   ]
  },
  {
   "cell_type": "code",
   "execution_count": 15,
   "metadata": {},
   "outputs": [],
   "source": [
    "import logging\n",
    "\n",
    "logging.getLogger(\"s7\").addHandler(logging.StreamHandler())"
   ]
  },
  {
   "cell_type": "code",
   "execution_count": 2,
   "metadata": {},
   "outputs": [
    {
     "data": {
      "text/plain": [
       "{'elements': FieldInfo(annotation=list[str], required=True, title='elements', description='The chemical symbols of the different elements present in the structure.', json_schema_extra={'x-soft7-shape': ['nelements']}),\n",
       " 'nelements': FieldInfo(annotation=int, required=True, title='nelements', description='Number of different elements in the structure as an integer.', json_schema_extra={}),\n",
       " 'elements_ratios': FieldInfo(annotation=list[float], required=True, title='elements_ratios', description='Relative proportions of different elements in the structure.', json_schema_extra={'x-soft7-shape': ['nelements']}),\n",
       " 'chemical_formula_descriptive': FieldInfo(annotation=str, required=True, title='chemical_formula_descriptive', description='The chemical formula for a structure as a string in a form chosen by the API implementation.', json_schema_extra={}),\n",
       " 'chemical_formula_reduced': FieldInfo(annotation=str, required=True, title='chemical_formula_reduced', description='The reduced chemical formula for a structure as a string with element symbols and integer chemical proportion numbers.', json_schema_extra={}),\n",
       " 'chemical_formula_hill': FieldInfo(annotation=str, required=True, title='chemical_formula_hill', description='The chemical formula for a structure in [Hill form](https://dx.doi.org/10.1021/ja02046a005) with element symbols followed by integer chemical proportion numbers.', json_schema_extra={}),\n",
       " 'chemical_formula_anonymous': FieldInfo(annotation=str, required=True, title='chemical_formula_anonymous', description='The anonymous formula is the `chemical_formula_reduced`, but where the elements are instead first ordered by their chemical proportion number, and then, in order left to right, replaced by anonymous symbols A, B, C, ..., Z, Aa, Ba, ..., Za, Ab, Bb, ... and so on.', json_schema_extra={}),\n",
       " 'dimension_types': FieldInfo(annotation=list[int], required=True, title='dimension_types', description='List of three integers. For each of the three directions indicated by the three lattice vectors (see property `lattice_vectors`), this list indicates if the direction is periodic (value `1`) or non-periodic (value `0`). Note: the elements in this list each refer to the direction of the corresponding entry in `lattice_vectors` and *not* the Cartesian x, y, z directions.', json_schema_extra={'x-soft7-shape': ['dimensionality']}),\n",
       " 'nperiodic_dimensions': FieldInfo(annotation=int, required=True, title='nperiodic_dimensions', description='An integer specifying the number of periodic dimensions in the structure, equivalent to the number of non-zero entries in `dimension_types`.', json_schema_extra={}),\n",
       " 'lattice_vectors': FieldInfo(annotation=list[list[float]], required=True, title='lattice_vectors', description='The three lattice vectors in Cartesian coordinates, in ångström (Å).', json_schema_extra={'x-soft7-shape': ['dimensionality', 'dimensionality'], 'x-soft7-unit': 'Ångström'}),\n",
       " 'cartesian_site_positions': FieldInfo(annotation=list[list[float]], required=True, title='cartesian_site_positions', description='Cartesian positions of each site in the structure. A site is usually used to describe positions of atoms; what atoms can be encountered at a given site is conveyed by the `species_at_sites` property, and the species themselves are described in the `species` property.', json_schema_extra={'x-soft7-shape': ['nsites', 'dimensionality']}),\n",
       " 'nsites': FieldInfo(annotation=int, required=True, title='nsites', description='An integer specifying the length of the `cartesian_site_positions` property.', json_schema_extra={}),\n",
       " 'species': FieldInfo(annotation=list[OPTIMADEStructureSpecies], required=True, title='species', description='A list describing the species of the sites of this structure. Species can represent pure chemical elements, virtual-crystal atoms representing a statistical occupation of a given site by multiple chemical elements, and/or a location to which there are attached atoms, i.e., atoms whose precise location are unknown beyond that they are attached to that position (frequently used to indicate hydrogen atoms attached to another element, e.g., a carbon with three attached hydrogens might represent a methyl group, -CH3).', json_schema_extra={'x-soft7-ref': Url('http://onto-ns.com/meta/1.0/OPTIMADEStructureSpecies'), 'x-soft7-shape': ['nspecies']}),\n",
       " 'species_at_sites': FieldInfo(annotation=list[str], required=True, title='species_at_sites', description='Name of the species at each site (where values for sites are specified with the same order of the property `cartesian_site_positions`).', json_schema_extra={'x-soft7-shape': ['nsites']}),\n",
       " 'assemblies': FieldInfo(annotation=OPTIMADEStructureAssembly, required=True, title='assemblies', description='A description of groups of sites that are statistically correlated.', json_schema_extra={'x-soft7-ref': Url('http://onto-ns.com/meta/1.0/OPTIMADEStructureAssembly')}),\n",
       " 'structure_features': FieldInfo(annotation=list[str], required=True, title='structure_features', description='A list of strings that flag which special features are used by the structure.', json_schema_extra={'x-soft7-shape': ['nstructure_features']}),\n",
       " 'immutable_id': FieldInfo(annotation=str, required=True, title='immutable_id', description='The entry\\'s immutable ID (e.g., an UUID). This is important for databases having preferred IDs that point to \"the latest version\" of a record, but still offer access to older variants. This ID maps to the version-specific record, in case it changes in the future.', json_schema_extra={}),\n",
       " 'last_modified': FieldInfo(annotation=str, required=True, title='last_modified', description='Date and time representing when the entry was last modified.', json_schema_extra={})}"
      ]
     },
     "execution_count": 2,
     "metadata": {},
     "output_type": "execute_result"
    }
   ],
   "source": [
    "from s7.factories import create_entity\n",
    "\n",
    "OPTIMADEStructure = create_entity(\"http://onto-ns.com/meta/1.0/OPTIMADEStructure#\")\n",
    "OPTIMADEStructure.model_fields[\"properties\"].annotation.model_fields[\"attributes\"].annotation.model_fields[\"properties\"].annotation.model_fields"
   ]
  },
  {
   "cell_type": "code",
   "execution_count": 33,
   "metadata": {},
   "outputs": [],
   "source": [
    "import os\n",
    "\n",
    "from s7.factories import create_datasource\n",
    "\n",
    "os.environ[\"OTELIB_DEBUG\"] = \"true\"\n",
    "\n",
    "datasource = create_datasource(\n",
    "    entity=\"http://onto-ns.com/meta/1.0/OPTIMADEStructure\",\n",
    "    configs={\n",
    "        \"dataresource\": {\n",
    "            \"downloadUrl\": \"https://optimade.materialsproject.org/v1/structures/mp-1228448\",\n",
    "            \"mediaType\": \"application/json\",\n",
    "        },\n",
    "        \"mapping\": {\n",
    "            \"mappingType\": \"triples\",\n",
    "            \"prefixes\": {\n",
    "                \"optimade\": \"https://optimade.materialsproject.org/v1/structures/mp-1228448#\",\n",
    "                \"s7_top\": \"http://onto-ns.com/meta/1.0/OPTIMADEStructure#\",\n",
    "                \"s7_attr\": \"http://onto-ns.com/meta/1.0/OPTIMADEStructureAttributes#\",\n",
    "                \"s7_species\": \"http://onto-ns.com/meta/1.0/OPTIMADEStructureSpecies#\",\n",
    "            },\n",
    "            \"triples\": {\n",
    "                # top\n",
    "                (\"optimade:data.id\", \"\", \"s7_top:properties.id\"),\n",
    "                (\"optimade:data.type\", \"\", \"s7_top:properties.type\"),\n",
    "                (\"optimade:data.attributes\", \"\", \"s7_top:properties.attributes\"),\n",
    "\n",
    "                # attributes - dimensions\n",
    "                (\"optimade:data.attributes.nsites\", \"\", \"s7_attr:dimensions.nsites\"),\n",
    "                (\"optimade:data.attributes.nelements\", \"\", \"s7_attr:dimensions.nelements\"),\n",
    "                # attributes - properties\n",
    "                (\"optimade:data.attributes.immutable_id\", \"\", \"s7_attr:properties.immutable_id\"),\n",
    "                (\"optimade:data.attributes.last>_modified\", \"\", \"s7_attr:properties.last_modified\"),\n",
    "                (\"optimade:data.attributes.elements\", \"\", \"s7_attr:properties.elements\"),\n",
    "                (\"optimade:data.attributes.elements_ratios\", \"\", \"s7_attr:properties.elements_ratios\"),\n",
    "                (\"optimade:data.attributes.chemical_formula_descriptive\", \"\", \"s7_attr:properties.chemical_formula_descriptive\"),\n",
    "                (\"optimade:data.attributes.chemical_formula_reduced\", \"\", \"s7_attr:properties.chemical_formula_reduced\"),\n",
    "                (\"optimade:data.attributes.chemical_formula_hill\", \"\", \"s7_attr:properties.chemical_formula_hill\"),\n",
    "                (\"optimade:data.attributes.chemical_formula_anonymous\", \"\", \"s7_attr:properties.chemical_formula_anonymous\"),\n",
    "                (\"optimade:data.attributes.dimension_types\", \"\", \"s7_attr:properties.dimension_types\"),\n",
    "                (\"optimade:data.attributes.nperiodic_dimensions\", \"\", \"s7_attr:properties.nperiodic_dimensions\"),\n",
    "                (\"optimade:data.attributes.lattice_vectors\", \"\", \"s7_attr:properties.lattice_vectors\"),\n",
    "                (\"optimade:data.attributes.cartesian_site_positions\", \"\", \"s7_attr:properties.cartesian_site_positions\"),\n",
    "                (\"optimade:data.attributes.species_at_sites\", \"\", \"s7_attr:properties.species_at_sites\"),\n",
    "                (\"optimade:data.attributes.structure_features\", \"\", \"s7_attr:properties.structure_features\"),\n",
    "                (\"optimade:data.attributes.species\", \"\", \"s7_attr:properties.species\"),\n",
    "\n",
    "                # attributes.species - properties\n",
    "                (\"optimade:data.attributes.species.name\", \"\", \"s7_species:properties.species.properties.name\"),\n",
    "                (\"optimade:data.attributes.species.chemical_symbols\", \"\", \"s7_species:properties.chemical_symbols\"),\n",
    "                (\"optimade:data.attributes.species.concentration\", \"\", \"s7_species:properties.concentration\"),\n",
    "                # attributes.species - dimensions - missing\n",
    "            },\n",
    "        },\n",
    "    },\n",
    ")"
   ]
  },
  {
   "cell_type": "code",
   "execution_count": 34,
   "metadata": {},
   "outputs": [
    {
     "ename": "AttributeError",
     "evalue": "",
     "output_type": "error",
     "traceback": [
      "\u001b[0;31m---------------------------------------------------------------------------\u001b[0m",
      "\u001b[0;31mApiError\u001b[0m                                  Traceback (most recent call last)",
      "File \u001b[0;32m~/venvs/soft/soft7/s7/pydantic_models/soft7_entity.py:171\u001b[0m, in \u001b[0;36mCallableAttributesMixin.__getattribute__\u001b[0;34m(self, name)\u001b[0m\n\u001b[1;32m    170\u001b[0m \u001b[39mif\u001b[39;00m name \u001b[39min\u001b[39;00m \u001b[39mobject\u001b[39m\u001b[39m.\u001b[39m\u001b[39m__getattribute__\u001b[39m(\u001b[39mself\u001b[39m, \u001b[39m\"\u001b[39m\u001b[39mmodel_fields\u001b[39m\u001b[39m\"\u001b[39m):\n\u001b[0;32m--> 171\u001b[0m     resolved_attr_value \u001b[39m=\u001b[39m attr_value(soft7_property\u001b[39m=\u001b[39;49mname)\n\u001b[1;32m    173\u001b[0m     \u001b[39m# Use TypeAdapter to return and validate the value against the\u001b[39;00m\n\u001b[1;32m    174\u001b[0m     \u001b[39m# generated type. This effectively validates the shape and\u001b[39;00m\n\u001b[1;32m    175\u001b[0m     \u001b[39m# dimensionality of the value, as well as the inner most expected type.\u001b[39;00m\n",
      "File \u001b[0;32m~/venvs/soft/soft7/s7/factories/datasource_factory.py:120\u001b[0m, in \u001b[0;36m_get_data.<locals>.__get_data\u001b[0;34m(soft7_property)\u001b[0m\n\u001b[1;32m    118\u001b[0m \u001b[39mif\u001b[39;00m \u001b[39mid\u001b[39m(ote_pipeline) \u001b[39mnot\u001b[39;00m \u001b[39min\u001b[39;00m CACHE:\n\u001b[1;32m    119\u001b[0m     \u001b[39m# Should only run once per pipeline - after that we retrieve from the cache\u001b[39;00m\n\u001b[0;32m--> 120\u001b[0m     pipeline_result: \u001b[39mdict\u001b[39m[\u001b[39mstr\u001b[39m, Any] \u001b[39m=\u001b[39m json\u001b[39m.\u001b[39mloads(ote_pipeline\u001b[39m.\u001b[39;49mget())\n\u001b[1;32m    121\u001b[0m     CACHE[\u001b[39mid\u001b[39m(ote_pipeline)] \u001b[39m=\u001b[39m pipeline_result\n",
      "File \u001b[0;32m~/.venvs/soft/lib/python3.10/site-packages/otelib/backends/strategies.py:95\u001b[0m, in \u001b[0;36mAbstractBaseStrategy.get\u001b[0;34m(self, session_id)\u001b[0m\n\u001b[1;32m     94\u001b[0m     \u001b[39mself\u001b[39m\u001b[39m.\u001b[39minput_pipe\u001b[39m.\u001b[39mget(session_id)\n\u001b[0;32m---> 95\u001b[0m \u001b[39mreturn\u001b[39;00m \u001b[39mself\u001b[39;49m\u001b[39m.\u001b[39;49mfetch(session_id)\n",
      "File \u001b[0;32m~/.venvs/soft/lib/python3.10/site-packages/otelib/backends/services/base.py:89\u001b[0m, in \u001b[0;36mBaseServicesStrategy.fetch\u001b[0;34m(self, session_id)\u001b[0m\n\u001b[1;32m     84\u001b[0m strategy_name \u001b[39m=\u001b[39m (\n\u001b[1;32m     85\u001b[0m     \u001b[39mself\u001b[39m\u001b[39m.\u001b[39mstrategy_name[\u001b[39mlen\u001b[39m(\u001b[39m\"\u001b[39m\u001b[39mdata\u001b[39m\u001b[39m\"\u001b[39m) :]\n\u001b[1;32m     86\u001b[0m     \u001b[39mif\u001b[39;00m \u001b[39mself\u001b[39m\u001b[39m.\u001b[39mstrategy_name\u001b[39m.\u001b[39mstartswith(\u001b[39m\"\u001b[39m\u001b[39mdata\u001b[39m\u001b[39m\"\u001b[39m)\n\u001b[1;32m     87\u001b[0m     \u001b[39melse\u001b[39;00m \u001b[39mself\u001b[39m\u001b[39m.\u001b[39mstrategy_name\n\u001b[1;32m     88\u001b[0m )\n\u001b[0;32m---> 89\u001b[0m \u001b[39mraise\u001b[39;00m ApiError(\n\u001b[1;32m     90\u001b[0m     \u001b[39mf\u001b[39m\u001b[39m\"\u001b[39m\u001b[39mCannot fetch \u001b[39m\u001b[39m{\u001b[39;00m\u001b[39mself\u001b[39m\u001b[39m.\u001b[39mstrategy_name\u001b[39m}\u001b[39;00m\u001b[39m: session_id=\u001b[39m\u001b[39m{\u001b[39;00msession_id\u001b[39m!r}\u001b[39;00m\u001b[39m \u001b[39m\u001b[39m\"\u001b[39m\n\u001b[1;32m     91\u001b[0m     \u001b[39mf\u001b[39m\u001b[39m\"\u001b[39m\u001b[39m{\u001b[39;00mstrategy_name\u001b[39m}\u001b[39;00m\u001b[39m_id=\u001b[39m\u001b[39m{\u001b[39;00m\u001b[39mself\u001b[39m\u001b[39m.\u001b[39mstrategy_id\u001b[39m!r}\u001b[39;00m\u001b[39m\"\u001b[39m\n\u001b[1;32m     92\u001b[0m     \u001b[39mf\u001b[39m\u001b[39m\"\u001b[39m\u001b[39m{\u001b[39;00m\u001b[39m'\u001b[39m\u001b[39m content=\u001b[39m\u001b[39m'\u001b[39m\u001b[39m \u001b[39m\u001b[39m+\u001b[39m\u001b[39m \u001b[39m\u001b[39mstr\u001b[39m(response\u001b[39m.\u001b[39mcontent)\u001b[39m \u001b[39m\u001b[39mif\u001b[39;00m\u001b[39m \u001b[39m\u001b[39mself\u001b[39m\u001b[39m.\u001b[39mdebug\u001b[39m \u001b[39m\u001b[39melse\u001b[39;00m\u001b[39m \u001b[39m\u001b[39m'\u001b[39m\u001b[39m'\u001b[39m\u001b[39m}\u001b[39;00m\u001b[39m\"\u001b[39m,\n\u001b[1;32m     93\u001b[0m     status\u001b[39m=\u001b[39mresponse\u001b[39m.\u001b[39mstatus_code,\n\u001b[1;32m     94\u001b[0m )\n",
      "\u001b[0;31mApiError\u001b[0m: ApiError: status=500 Cannot fetch function: session_id='session-6955d9aa-0112-4019-a6d8-e047d7784e33' function_id='function-7fdce95d-a1ca-4786-b7c7-fc1a35824486' content=b'Internal Server Error'",
      "\nThe above exception was the direct cause of the following exception:\n",
      "\u001b[0;31mAttributeError\u001b[0m                            Traceback (most recent call last)",
      "\u001b[1;32m/home/cwa/venvs/soft/soft7/docs/examples/datasource.ipynb Cell 8\u001b[0m line \u001b[0;36m1\n\u001b[0;32m----> <a href='vscode-notebook-cell://wsl%2Bubuntu-20.04/home/cwa/venvs/soft/soft7/docs/examples/datasource.ipynb#X10sdnNjb2RlLXJlbW90ZQ%3D%3D?line=0'>1</a>\u001b[0m datasource\u001b[39m.\u001b[39;49m\u001b[39m__getattribute__\u001b[39;49m(\u001b[39m\"\u001b[39;49m\u001b[39mid\u001b[39;49m\u001b[39m\"\u001b[39;49m)\n",
      "File \u001b[0;32m~/venvs/soft/soft7/s7/pydantic_models/soft7_entity.py:184\u001b[0m, in \u001b[0;36mCallableAttributesMixin.__getattribute__\u001b[0;34m(self, name)\u001b[0m\n\u001b[1;32m    182\u001b[0m     \u001b[39mreturn\u001b[39;00m attr_value\n\u001b[1;32m    183\u001b[0m \u001b[39mexcept\u001b[39;00m \u001b[39mException\u001b[39;00m \u001b[39mas\u001b[39;00m exc:  \u001b[39m# noqa: BLE001\u001b[39;00m\n\u001b[0;32m--> 184\u001b[0m     \u001b[39mraise\u001b[39;00m \u001b[39mAttributeError\u001b[39;00m \u001b[39mfrom\u001b[39;00m \u001b[39mexc\u001b[39;00m\n",
      "\u001b[0;31mAttributeError\u001b[0m: "
     ]
    }
   ],
   "source": [
    "datasource.__getattribute__(\"id\")"
   ]
  },
  {
   "cell_type": "code",
   "execution_count": null,
   "metadata": {},
   "outputs": [
    {
     "name": "stdout",
     "output_type": "stream",
     "text": [
      "{}\n"
     ]
    }
   ],
   "source": [
    "from s7.factories.datasource_factory import CACHE\n",
    "\n",
    "print(CACHE)"
   ]
  },
  {
   "cell_type": "code",
   "execution_count": null,
   "metadata": {},
   "outputs": [],
   "source": []
  }
 ],
 "metadata": {
  "kernelspec": {
   "display_name": "soft",
   "language": "python",
   "name": "python3"
  },
  "language_info": {
   "codemirror_mode": {
    "name": "ipython",
    "version": 3
   },
   "file_extension": ".py",
   "mimetype": "text/x-python",
   "name": "python",
   "nbconvert_exporter": "python",
   "pygments_lexer": "ipython3",
   "version": "3.10.13"
  }
 },
 "nbformat": 4,
 "nbformat_minor": 2
}
