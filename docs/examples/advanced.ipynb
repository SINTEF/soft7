{
 "cells": [
  {
   "cell_type": "markdown",
   "metadata": {},
   "source": [
    "# Advanced usage of entities"
   ]
  },
  {
   "cell_type": "code",
   "execution_count": 1,
   "metadata": {},
   "outputs": [],
   "source": [
    "from __future__ import annotations\n",
    "\n",
    "import contextlib\n",
    "\n",
    "with contextlib.suppress(ImportError):\n",
    "    from rich import print"
   ]
  },
  {
   "cell_type": "markdown",
   "metadata": {},
   "source": [
    "## Load data using OTEAPI\n",
    "\n",
    "Contrary to what is done in the last part of the [basic usage of entities](./basic) section, data will not be neatly formatted into a perfect representation of a given entity's instance, i.e., split into dimensions and properties with properly typed values.\n",
    "To handle \"real\" data it should first be parsed, from whatever format is comes in, and subsequently mapped into dimensions and properties represented by a given entity.\n",
    "\n",
    "A way to do this is with OTEAPI (Open Translation Environment API).\n",
    "OTEAPI is a RESTful API service-based framework that allows you to setup data pipelines, document and store them for later use by anyone.\n",
    "I.e., it allows you to create a data pipeline that will parse data from a given source, parse it, and represent it as a given entity's instance.\n",
    "From there, a related semantic mapping of the entity can be utilized to document the data further, but the core usage will be to use the entity instance for further processing, data generation, and/or data analysis.\n",
    "\n",
    "### SOFT7 Generator OTEAPI Strategy\n",
    "\n",
    "The SOFT7 Generator OTEAPI Strategy will generate an entity class (if necessary) and create an instance from this, based on a data source and a mapping from this data source (represented as a dictionary or JSON/YAML object) to the entity.\n",
    "\n",
    "It therefore expects to be part of a minimum pipeline looking like this:\n",
    "\n",
    "    DataResource >> Mapping >> SOFT7 Generator"
   ]
  },
  {
   "cell_type": "code",
   "execution_count": null,
   "metadata": {},
   "outputs": [],
   "source": [
    "from otelib import OTEClient\n",
    "\n",
    "client = OTEClient(\"python\")\n",
    "\n",
    "data_resource = client.create_dataresource(\n",
    "    # Data Resource configuration\n",
    "\n",
    ")\n",
    "data_entity_mapping = client.create_mapping(\n",
    "    # Mapping configuration\n",
    "\n",
    ")\n",
    "entity_generator = client.create_function(\n",
    "    # SOFT7 Generator Function configuration\n",
    "\n",
    ")\n",
    "\n",
    "pipeline = data_resource >> data_entity_mapping >> entity_generator\n",
    "\n",
    "print(pipeline)"
   ]
  },
  {
   "cell_type": "markdown",
   "metadata": {},
   "source": [
    "Now we can execute the pipeline and get the entity instance."
   ]
  },
  {
   "cell_type": "code",
   "execution_count": null,
   "metadata": {},
   "outputs": [],
   "source": [
    "entity_instance = pipeline.get()\n",
    "\n",
    "print(entity_instance)"
   ]
  },
  {
   "cell_type": "markdown",
   "metadata": {},
   "source": [
    "It is worth noting that a pipeline will never return anything other than standard Python types, i.e., no _actual_ entity instances (pydantic model instances) will be returned.\n",
    "The `entity_instance` is therefore a dictionary with no way of retrieving the entity it is based on.\n",
    "\n",
    "OTEAPI will however store any generated entities, which may be retrieved in other ways that will be explored later."
   ]
  },
  {
   "cell_type": "markdown",
   "metadata": {},
   "source": []
  }
 ],
 "metadata": {
  "kernelspec": {
   "display_name": "soft",
   "language": "python",
   "name": "python3"
  },
  "language_info": {
   "codemirror_mode": {
    "name": "ipython",
    "version": 3
   },
   "file_extension": ".py",
   "mimetype": "text/x-python",
   "name": "python",
   "nbconvert_exporter": "python",
   "pygments_lexer": "ipython3",
   "version": "3.10.13"
  },
  "mystnb": {
   "execution_mode": "off"
  }
 },
 "nbformat": 4,
 "nbformat_minor": 2
}
