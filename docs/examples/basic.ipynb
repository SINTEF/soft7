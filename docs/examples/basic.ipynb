{
 "cells": [
  {
   "cell_type": "markdown",
   "metadata": {},
   "source": [
    "# Basic use of entities"
   ]
  },
  {
   "cell_type": "code",
   "execution_count": 2,
   "metadata": {
    "tags": [
     "remove-cell"
    ]
   },
   "outputs": [],
   "source": [
    "from __future__ import annotations\n",
    "\n",
    "from typing import TYPE_CHECKING\n",
    "\n",
    "try:\n",
    "    from rich import print, print_json\n",
    "except ImportError:\n",
    "    print_json = print\n",
    "\n",
    "if TYPE_CHECKING:\n",
    "    from typing import Any"
   ]
  },
  {
   "cell_type": "markdown",
   "metadata": {},
   "source": [
    "## Load an entity\n",
    "\n",
    "A test entity:"
   ]
  },
  {
   "cell_type": "code",
   "execution_count": 6,
   "metadata": {
    "tags": [
     "remove-input"
    ]
   },
   "outputs": [
    {
     "data": {
      "text/html": [
       "<pre style=\"white-space:pre;overflow-x:auto;line-height:normal;font-family:Menlo,'DejaVu Sans Mono',consolas,'Courier New',monospace\">description: A bare-bones entity for testing.\n",
       "dimensions:\n",
       "  N: Number of elements.\n",
       "identity: <span style=\"color: #0000ff; text-decoration-color: #0000ff; text-decoration: underline\">http://onto-ns.com/s7/0.1.0/MolecularSpecies</span>\n",
       "properties:\n",
       "  atom:\n",
       "    description: An atom.\n",
       "    shape:\n",
       "    - N\n",
       "    type: string\n",
       "  electrons:\n",
       "    description: Number of electrons.\n",
       "    shape:\n",
       "    - N\n",
       "    type: int\n",
       "  mass:\n",
       "    description: Atomic mass.\n",
       "    shape:\n",
       "    - N\n",
       "    type: float\n",
       "    unit: amu\n",
       "  radius:\n",
       "    description: Atomic radius.\n",
       "    shape:\n",
       "    - N\n",
       "    type: float\n",
       "    unit: Å\n",
       "\n",
       "</pre>\n"
      ],
      "text/plain": [
       "description: A bare-bones entity for testing.\n",
       "dimensions:\n",
       "  N: Number of elements.\n",
       "identity: \u001b[4;94mhttp://onto-ns.com/s7/0.1.0/MolecularSpecies\u001b[0m\n",
       "properties:\n",
       "  atom:\n",
       "    description: An atom.\n",
       "    shape:\n",
       "    - N\n",
       "    type: string\n",
       "  electrons:\n",
       "    description: Number of electrons.\n",
       "    shape:\n",
       "    - N\n",
       "    type: int\n",
       "  mass:\n",
       "    description: Atomic mass.\n",
       "    shape:\n",
       "    - N\n",
       "    type: float\n",
       "    unit: amu\n",
       "  radius:\n",
       "    description: Atomic radius.\n",
       "    shape:\n",
       "    - N\n",
       "    type: float\n",
       "    unit: Å\n",
       "\n"
      ]
     },
     "metadata": {},
     "output_type": "display_data"
    }
   ],
   "source": [
    "from pathlib import Path\n",
    "\n",
    "import yaml\n",
    "\n",
    "# Note, this is the directory where the notebook is located\n",
    "# While it is dynamically set to the current working directory, it is\n",
    "# recommended to set it to the directory where the notebook is located\n",
    "# to avoid any confusion when running the notebook in different environments\n",
    "# and from different directories.\n",
    "NOTEBOOK_DIR = Path.cwd().resolve()\n",
    "\n",
    "REPO_DIR = NOTEBOOK_DIR.parent.parent.resolve()\n",
    "STATIC_TEST_DIR = REPO_DIR / \"tests\" / \"static\"\n",
    "TEST_ENTITY_PATH = STATIC_TEST_DIR / \"soft_datasource_entity.yaml\"\n",
    "\n",
    "RAW_TEST_ENTITY: dict[str, Any] = yaml.safe_load(TEST_ENTITY_PATH.read_text())\n",
    "\n",
    "print(yaml.safe_dump(RAW_TEST_ENTITY, allow_unicode=True))"
   ]
  },
  {
   "cell_type": "markdown",
   "metadata": {},
   "source": [
    "Load the entity as a `SOFT7Entity` class."
   ]
  },
  {
   "cell_type": "code",
   "execution_count": 93,
   "metadata": {},
   "outputs": [
    {
     "data": {
      "text/html": [
       "<pre style=\"white-space:pre;overflow-x:auto;line-height:normal;font-family:Menlo,'DejaVu Sans Mono',consolas,'Courier New',monospace\"><span style=\"color: #800080; text-decoration-color: #800080; font-weight: bold\">SOFT7Entity</span><span style=\"font-weight: bold\">(</span>\n",
       "    <span style=\"color: #808000; text-decoration-color: #808000\">identity</span>=<span style=\"color: #800080; text-decoration-color: #800080; font-weight: bold\">Url</span><span style=\"font-weight: bold\">(</span><span style=\"color: #008000; text-decoration-color: #008000\">'http://onto-ns.com/s7/0.1.0/MolecularSpecies'</span><span style=\"font-weight: bold\">)</span>,\n",
       "    <span style=\"color: #808000; text-decoration-color: #808000\">description</span>=<span style=\"color: #008000; text-decoration-color: #008000\">'A bare-bones entity for testing.'</span>,\n",
       "    <span style=\"color: #808000; text-decoration-color: #808000\">dimensions</span>=<span style=\"font-weight: bold\">{</span><span style=\"color: #008000; text-decoration-color: #008000\">'N'</span>: <span style=\"color: #008000; text-decoration-color: #008000\">'Number of elements.'</span><span style=\"font-weight: bold\">}</span>,\n",
       "    <span style=\"color: #808000; text-decoration-color: #808000\">properties</span>=<span style=\"font-weight: bold\">{</span>\n",
       "        <span style=\"color: #008000; text-decoration-color: #008000\">'atom'</span>: <span style=\"color: #800080; text-decoration-color: #800080; font-weight: bold\">SOFT7EntityProperty</span><span style=\"font-weight: bold\">(</span><span style=\"color: #808000; text-decoration-color: #808000\">type</span>=<span style=\"color: #008000; text-decoration-color: #008000\">'string'</span>, <span style=\"color: #808000; text-decoration-color: #808000\">shape</span>=<span style=\"font-weight: bold\">[</span><span style=\"color: #008000; text-decoration-color: #008000\">'N'</span><span style=\"font-weight: bold\">]</span>, <span style=\"color: #808000; text-decoration-color: #808000\">description</span>=<span style=\"color: #008000; text-decoration-color: #008000\">'An atom.'</span>, <span style=\"color: #808000; text-decoration-color: #808000\">unit</span>=<span style=\"color: #800080; text-decoration-color: #800080; font-style: italic\">None</span><span style=\"font-weight: bold\">)</span>,\n",
       "        <span style=\"color: #008000; text-decoration-color: #008000\">'electrons'</span>: <span style=\"color: #800080; text-decoration-color: #800080; font-weight: bold\">SOFT7EntityProperty</span><span style=\"font-weight: bold\">(</span><span style=\"color: #808000; text-decoration-color: #808000\">type</span>=<span style=\"color: #008000; text-decoration-color: #008000\">'int'</span>, <span style=\"color: #808000; text-decoration-color: #808000\">shape</span>=<span style=\"font-weight: bold\">[</span><span style=\"color: #008000; text-decoration-color: #008000\">'N'</span><span style=\"font-weight: bold\">]</span>, <span style=\"color: #808000; text-decoration-color: #808000\">description</span>=<span style=\"color: #008000; text-decoration-color: #008000\">'Number of electrons.'</span>, <span style=\"color: #808000; text-decoration-color: #808000\">unit</span>=<span style=\"color: #800080; text-decoration-color: #800080; font-style: italic\">None</span><span style=\"font-weight: bold\">)</span>,\n",
       "        <span style=\"color: #008000; text-decoration-color: #008000\">'mass'</span>: <span style=\"color: #800080; text-decoration-color: #800080; font-weight: bold\">SOFT7EntityProperty</span><span style=\"font-weight: bold\">(</span><span style=\"color: #808000; text-decoration-color: #808000\">type</span>=<span style=\"color: #008000; text-decoration-color: #008000\">'float'</span>, <span style=\"color: #808000; text-decoration-color: #808000\">shape</span>=<span style=\"font-weight: bold\">[</span><span style=\"color: #008000; text-decoration-color: #008000\">'N'</span><span style=\"font-weight: bold\">]</span>, <span style=\"color: #808000; text-decoration-color: #808000\">description</span>=<span style=\"color: #008000; text-decoration-color: #008000\">'Atomic mass.'</span>, <span style=\"color: #808000; text-decoration-color: #808000\">unit</span>=<span style=\"color: #008000; text-decoration-color: #008000\">'amu'</span><span style=\"font-weight: bold\">)</span>,\n",
       "        <span style=\"color: #008000; text-decoration-color: #008000\">'radius'</span>: <span style=\"color: #800080; text-decoration-color: #800080; font-weight: bold\">SOFT7EntityProperty</span><span style=\"font-weight: bold\">(</span><span style=\"color: #808000; text-decoration-color: #808000\">type</span>=<span style=\"color: #008000; text-decoration-color: #008000\">'float'</span>, <span style=\"color: #808000; text-decoration-color: #808000\">shape</span>=<span style=\"font-weight: bold\">[</span><span style=\"color: #008000; text-decoration-color: #008000\">'N'</span><span style=\"font-weight: bold\">]</span>, <span style=\"color: #808000; text-decoration-color: #808000\">description</span>=<span style=\"color: #008000; text-decoration-color: #008000\">'Atomic radius.'</span>, <span style=\"color: #808000; text-decoration-color: #808000\">unit</span>=<span style=\"color: #008000; text-decoration-color: #008000\">'Å'</span><span style=\"font-weight: bold\">)</span>\n",
       "    <span style=\"font-weight: bold\">}</span>\n",
       "<span style=\"font-weight: bold\">)</span>\n",
       "</pre>\n"
      ],
      "text/plain": [
       "\u001b[1;35mSOFT7Entity\u001b[0m\u001b[1m(\u001b[0m\n",
       "    \u001b[33midentity\u001b[0m=\u001b[1;35mUrl\u001b[0m\u001b[1m(\u001b[0m\u001b[32m'http://onto-ns.com/s7/0.1.0/MolecularSpecies'\u001b[0m\u001b[1m)\u001b[0m,\n",
       "    \u001b[33mdescription\u001b[0m=\u001b[32m'A bare-bones entity for testing.'\u001b[0m,\n",
       "    \u001b[33mdimensions\u001b[0m=\u001b[1m{\u001b[0m\u001b[32m'N'\u001b[0m: \u001b[32m'Number of elements.'\u001b[0m\u001b[1m}\u001b[0m,\n",
       "    \u001b[33mproperties\u001b[0m=\u001b[1m{\u001b[0m\n",
       "        \u001b[32m'atom'\u001b[0m: \u001b[1;35mSOFT7EntityProperty\u001b[0m\u001b[1m(\u001b[0m\u001b[33mtype\u001b[0m=\u001b[32m'string'\u001b[0m, \u001b[33mshape\u001b[0m=\u001b[1m[\u001b[0m\u001b[32m'N'\u001b[0m\u001b[1m]\u001b[0m, \u001b[33mdescription\u001b[0m=\u001b[32m'An atom.'\u001b[0m, \u001b[33munit\u001b[0m=\u001b[3;35mNone\u001b[0m\u001b[1m)\u001b[0m,\n",
       "        \u001b[32m'electrons'\u001b[0m: \u001b[1;35mSOFT7EntityProperty\u001b[0m\u001b[1m(\u001b[0m\u001b[33mtype\u001b[0m=\u001b[32m'int'\u001b[0m, \u001b[33mshape\u001b[0m=\u001b[1m[\u001b[0m\u001b[32m'N'\u001b[0m\u001b[1m]\u001b[0m, \u001b[33mdescription\u001b[0m=\u001b[32m'Number of electrons.'\u001b[0m, \u001b[33munit\u001b[0m=\u001b[3;35mNone\u001b[0m\u001b[1m)\u001b[0m,\n",
       "        \u001b[32m'mass'\u001b[0m: \u001b[1;35mSOFT7EntityProperty\u001b[0m\u001b[1m(\u001b[0m\u001b[33mtype\u001b[0m=\u001b[32m'float'\u001b[0m, \u001b[33mshape\u001b[0m=\u001b[1m[\u001b[0m\u001b[32m'N'\u001b[0m\u001b[1m]\u001b[0m, \u001b[33mdescription\u001b[0m=\u001b[32m'Atomic mass.'\u001b[0m, \u001b[33munit\u001b[0m=\u001b[32m'amu'\u001b[0m\u001b[1m)\u001b[0m,\n",
       "        \u001b[32m'radius'\u001b[0m: \u001b[1;35mSOFT7EntityProperty\u001b[0m\u001b[1m(\u001b[0m\u001b[33mtype\u001b[0m=\u001b[32m'float'\u001b[0m, \u001b[33mshape\u001b[0m=\u001b[1m[\u001b[0m\u001b[32m'N'\u001b[0m\u001b[1m]\u001b[0m, \u001b[33mdescription\u001b[0m=\u001b[32m'Atomic radius.'\u001b[0m, \u001b[33munit\u001b[0m=\u001b[32m'Å'\u001b[0m\u001b[1m)\u001b[0m\n",
       "    \u001b[1m}\u001b[0m\n",
       "\u001b[1m)\u001b[0m\n"
      ]
     },
     "metadata": {},
     "output_type": "display_data"
    }
   ],
   "source": [
    "from s7.pydantic_models.soft7_entity import SOFT7Entity\n",
    "\n",
    "entity = SOFT7Entity(**RAW_TEST_ENTITY)\n",
    "\n",
    "print(entity)"
   ]
  },
  {
   "cell_type": "markdown",
   "metadata": {},
   "source": [
    "## Generate a Python class from the entity\n",
    "\n",
    "Generate a custom Python class based on the entity.\n",
    "It will be possible to create instances of this class, based on the properties and dimensions of the entity."
   ]
  },
  {
   "cell_type": "code",
   "execution_count": 94,
   "metadata": {},
   "outputs": [
    {
     "data": {
      "text/html": [
       "<pre style=\"white-space:pre;overflow-x:auto;line-height:normal;font-family:Menlo,'DejaVu Sans Mono',consolas,'Courier New',monospace\">Class: <span style=\"font-weight: bold\">&lt;</span><span style=\"color: #ff00ff; text-decoration-color: #ff00ff; font-weight: bold\">class</span><span style=\"color: #000000; text-decoration-color: #000000\"> </span><span style=\"color: #008000; text-decoration-color: #008000\">'s7.factories.generated_classes.MolecularSpeciesEntity'</span><span style=\"font-weight: bold\">&gt;</span>\n",
       "</pre>\n"
      ],
      "text/plain": [
       "Class: \u001b[1m<\u001b[0m\u001b[1;95mclass\u001b[0m\u001b[39m \u001b[0m\u001b[32m's7.factories.generated_classes.MolecularSpeciesEntity'\u001b[0m\u001b[1m>\u001b[0m\n"
      ]
     },
     "metadata": {},
     "output_type": "display_data"
    },
    {
     "data": {
      "text/html": [
       "<pre style=\"white-space:pre;overflow-x:auto;line-height:normal;font-family:Menlo,'DejaVu Sans Mono',consolas,'Courier New',monospace\">MolecularSpecies\n",
       "\n",
       "    A bare-bones entity for testing.\n",
       "\n",
       "    SOFT7 Entity Metadata:\n",
       "        Identity: <span style=\"color: #0000ff; text-decoration-color: #0000ff; text-decoration: underline\">http://onto-ns.com/s7/0.1.0/MolecularSpecies</span>\n",
       "\n",
       "        Namespace: <span style=\"color: #0000ff; text-decoration-color: #0000ff; text-decoration: underline\">http://onto-ns.com/s7</span>\n",
       "        Version: <span style=\"color: #008080; text-decoration-color: #008080; font-weight: bold\">0.1</span>.<span style=\"color: #008080; text-decoration-color: #008080; font-weight: bold\">0</span>\n",
       "        Name: MolecularSpecies\n",
       "\n",
       "    Dimensions:\n",
       "        N <span style=\"font-weight: bold\">(</span>int<span style=\"font-weight: bold\">)</span>: Number of elements.\n",
       "\n",
       "    Attributes:\n",
       "        atom <span style=\"font-weight: bold\">(</span>list<span style=\"font-weight: bold\">)</span>: An atom.\n",
       "        electrons <span style=\"font-weight: bold\">(</span>list<span style=\"font-weight: bold\">)</span>: Number of electrons.\n",
       "        mass <span style=\"font-weight: bold\">(</span>list<span style=\"font-weight: bold\">)</span>: Atomic mass.\n",
       "        radius <span style=\"font-weight: bold\">(</span>list<span style=\"font-weight: bold\">)</span>: Atomic radius.\n",
       "\n",
       "    \n",
       "</pre>\n"
      ],
      "text/plain": [
       "MolecularSpecies\n",
       "\n",
       "    A bare-bones entity for testing.\n",
       "\n",
       "    SOFT7 Entity Metadata:\n",
       "        Identity: \u001b[4;94mhttp://onto-ns.com/s7/0.1.0/MolecularSpecies\u001b[0m\n",
       "\n",
       "        Namespace: \u001b[4;94mhttp://onto-ns.com/s7\u001b[0m\n",
       "        Version: \u001b[1;36m0.1\u001b[0m.\u001b[1;36m0\u001b[0m\n",
       "        Name: MolecularSpecies\n",
       "\n",
       "    Dimensions:\n",
       "        N \u001b[1m(\u001b[0mint\u001b[1m)\u001b[0m: Number of elements.\n",
       "\n",
       "    Attributes:\n",
       "        atom \u001b[1m(\u001b[0mlist\u001b[1m)\u001b[0m: An atom.\n",
       "        electrons \u001b[1m(\u001b[0mlist\u001b[1m)\u001b[0m: Number of electrons.\n",
       "        mass \u001b[1m(\u001b[0mlist\u001b[1m)\u001b[0m: Atomic mass.\n",
       "        radius \u001b[1m(\u001b[0mlist\u001b[1m)\u001b[0m: Atomic radius.\n",
       "\n",
       "    \n"
      ]
     },
     "metadata": {},
     "output_type": "display_data"
    },
    {
     "data": {
      "text/html": [
       "<pre style=\"white-space:pre;overflow-x:auto;line-height:normal;font-family:Menlo,'DejaVu Sans Mono',consolas,'Courier New',monospace\">JSON Schema:\n",
       "</pre>\n"
      ],
      "text/plain": [
       "JSON Schema:\n"
      ]
     },
     "metadata": {},
     "output_type": "display_data"
    },
    {
     "data": {
      "text/html": [
       "<pre style=\"white-space:pre;overflow-x:auto;line-height:normal;font-family:Menlo,'DejaVu Sans Mono',consolas,'Courier New',monospace\"><span style=\"font-weight: bold\">{</span>\n",
       "    <span style=\"color: #008000; text-decoration-color: #008000\">'$defs'</span>: <span style=\"font-weight: bold\">{</span>\n",
       "        <span style=\"color: #008000; text-decoration-color: #008000\">'MolecularSpeciesEntityDimensions'</span>: <span style=\"font-weight: bold\">{</span>\n",
       "            <span style=\"color: #008000; text-decoration-color: #008000\">'additionalProperties'</span>: <span style=\"color: #ff0000; text-decoration-color: #ff0000; font-style: italic\">False</span>,\n",
       "            <span style=\"color: #008000; text-decoration-color: #008000\">'description'</span>: <span style=\"color: #008000; text-decoration-color: #008000\">'MolecularSpeciesDimensions\\n\\nDimensions for the MolecularSpecies SOFT7 data </span>\n",
       "<span style=\"color: #008000; text-decoration-color: #008000\">source.\\n\\nSOFT7 Entity: http://onto-ns.com/s7/0.1.0/MolecularSpecies\\n\\nAttributes:\\n    N (int): Number of </span>\n",
       "<span style=\"color: #008000; text-decoration-color: #008000\">elements.'</span>,\n",
       "            <span style=\"color: #008000; text-decoration-color: #008000\">'properties'</span>: <span style=\"font-weight: bold\">{</span>\n",
       "                <span style=\"color: #008000; text-decoration-color: #008000\">'N'</span>: <span style=\"font-weight: bold\">{</span>\n",
       "                    <span style=\"color: #008000; text-decoration-color: #008000\">'anyOf'</span>: <span style=\"font-weight: bold\">[{</span><span style=\"color: #008000; text-decoration-color: #008000\">'type'</span>: <span style=\"color: #008000; text-decoration-color: #008000\">'integer'</span><span style=\"font-weight: bold\">}</span>, <span style=\"font-weight: bold\">{</span><span style=\"color: #008000; text-decoration-color: #008000\">'type'</span>: <span style=\"color: #008000; text-decoration-color: #008000\">'null'</span><span style=\"font-weight: bold\">}]</span>,\n",
       "                    <span style=\"color: #008000; text-decoration-color: #008000\">'default'</span>: <span style=\"color: #800080; text-decoration-color: #800080; font-style: italic\">None</span>,\n",
       "                    <span style=\"color: #008000; text-decoration-color: #008000\">'description'</span>: <span style=\"color: #008000; text-decoration-color: #008000\">'Number of elements.'</span>,\n",
       "                    <span style=\"color: #008000; text-decoration-color: #008000\">'title'</span>: <span style=\"color: #008000; text-decoration-color: #008000\">'N'</span>\n",
       "                <span style=\"font-weight: bold\">}</span>\n",
       "            <span style=\"font-weight: bold\">}</span>,\n",
       "            <span style=\"color: #008000; text-decoration-color: #008000\">'title'</span>: <span style=\"color: #008000; text-decoration-color: #008000\">'MolecularSpeciesEntityDimensions'</span>,\n",
       "            <span style=\"color: #008000; text-decoration-color: #008000\">'type'</span>: <span style=\"color: #008000; text-decoration-color: #008000\">'object'</span>\n",
       "        <span style=\"font-weight: bold\">}</span>,\n",
       "        <span style=\"color: #008000; text-decoration-color: #008000\">'MolecularSpeciesEntityProperties'</span>: <span style=\"font-weight: bold\">{</span>\n",
       "            <span style=\"color: #008000; text-decoration-color: #008000\">'additionalProperties'</span>: <span style=\"color: #ff0000; text-decoration-color: #ff0000; font-style: italic\">False</span>,\n",
       "            <span style=\"color: #008000; text-decoration-color: #008000\">'description'</span>: <span style=\"color: #008000; text-decoration-color: #008000\">'MolecularSpeciesProperties\\n\\nProperties for the MolecularSpecies SOFT7 data </span>\n",
       "<span style=\"color: #008000; text-decoration-color: #008000\">source.\\n\\nSOFT7 Entity: http://onto-ns.com/s7/0.1.0/MolecularSpecies\\n\\nAttributes:\\n    atom (list[str]): An </span>\n",
       "<span style=\"color: #008000; text-decoration-color: #008000\">atom.\\n    electrons (list[int]): Number of electrons.\\n    mass (list[float]): Atomic mass.\\n    radius </span>\n",
       "<span style=\"color: #008000; text-decoration-color: #008000\">(list[float]): Atomic radius.'</span>,\n",
       "            <span style=\"color: #008000; text-decoration-color: #008000\">'properties'</span>: <span style=\"font-weight: bold\">{</span>\n",
       "                <span style=\"color: #008000; text-decoration-color: #008000\">'atom'</span>: <span style=\"font-weight: bold\">{</span>\n",
       "                    <span style=\"color: #008000; text-decoration-color: #008000\">'anyOf'</span>: <span style=\"font-weight: bold\">[{</span><span style=\"color: #008000; text-decoration-color: #008000\">'items'</span>: <span style=\"font-weight: bold\">{</span><span style=\"color: #008000; text-decoration-color: #008000\">'type'</span>: <span style=\"color: #008000; text-decoration-color: #008000\">'string'</span><span style=\"font-weight: bold\">}</span>, <span style=\"color: #008000; text-decoration-color: #008000\">'type'</span>: <span style=\"color: #008000; text-decoration-color: #008000\">'array'</span><span style=\"font-weight: bold\">}</span>, <span style=\"font-weight: bold\">{</span><span style=\"color: #008000; text-decoration-color: #008000\">'type'</span>: <span style=\"color: #008000; text-decoration-color: #008000\">'null'</span><span style=\"font-weight: bold\">}]</span>,\n",
       "                    <span style=\"color: #008000; text-decoration-color: #008000\">'default'</span>: <span style=\"color: #800080; text-decoration-color: #800080; font-style: italic\">None</span>,\n",
       "                    <span style=\"color: #008000; text-decoration-color: #008000\">'description'</span>: <span style=\"color: #008000; text-decoration-color: #008000\">'An atom.'</span>,\n",
       "                    <span style=\"color: #008000; text-decoration-color: #008000\">'title'</span>: <span style=\"color: #008000; text-decoration-color: #008000\">'atom'</span>,\n",
       "                    <span style=\"color: #008000; text-decoration-color: #008000\">'x-soft7-shape'</span>: <span style=\"font-weight: bold\">[</span><span style=\"color: #008000; text-decoration-color: #008000\">'N'</span><span style=\"font-weight: bold\">]</span>\n",
       "                <span style=\"font-weight: bold\">}</span>,\n",
       "                <span style=\"color: #008000; text-decoration-color: #008000\">'electrons'</span>: <span style=\"font-weight: bold\">{</span>\n",
       "                    <span style=\"color: #008000; text-decoration-color: #008000\">'anyOf'</span>: <span style=\"font-weight: bold\">[{</span><span style=\"color: #008000; text-decoration-color: #008000\">'items'</span>: <span style=\"font-weight: bold\">{</span><span style=\"color: #008000; text-decoration-color: #008000\">'type'</span>: <span style=\"color: #008000; text-decoration-color: #008000\">'integer'</span><span style=\"font-weight: bold\">}</span>, <span style=\"color: #008000; text-decoration-color: #008000\">'type'</span>: <span style=\"color: #008000; text-decoration-color: #008000\">'array'</span><span style=\"font-weight: bold\">}</span>, <span style=\"font-weight: bold\">{</span><span style=\"color: #008000; text-decoration-color: #008000\">'type'</span>: <span style=\"color: #008000; text-decoration-color: #008000\">'null'</span><span style=\"font-weight: bold\">}]</span>,\n",
       "                    <span style=\"color: #008000; text-decoration-color: #008000\">'default'</span>: <span style=\"color: #800080; text-decoration-color: #800080; font-style: italic\">None</span>,\n",
       "                    <span style=\"color: #008000; text-decoration-color: #008000\">'description'</span>: <span style=\"color: #008000; text-decoration-color: #008000\">'Number of electrons.'</span>,\n",
       "                    <span style=\"color: #008000; text-decoration-color: #008000\">'title'</span>: <span style=\"color: #008000; text-decoration-color: #008000\">'electrons'</span>,\n",
       "                    <span style=\"color: #008000; text-decoration-color: #008000\">'x-soft7-shape'</span>: <span style=\"font-weight: bold\">[</span><span style=\"color: #008000; text-decoration-color: #008000\">'N'</span><span style=\"font-weight: bold\">]</span>\n",
       "                <span style=\"font-weight: bold\">}</span>,\n",
       "                <span style=\"color: #008000; text-decoration-color: #008000\">'mass'</span>: <span style=\"font-weight: bold\">{</span>\n",
       "                    <span style=\"color: #008000; text-decoration-color: #008000\">'anyOf'</span>: <span style=\"font-weight: bold\">[{</span><span style=\"color: #008000; text-decoration-color: #008000\">'items'</span>: <span style=\"font-weight: bold\">{</span><span style=\"color: #008000; text-decoration-color: #008000\">'type'</span>: <span style=\"color: #008000; text-decoration-color: #008000\">'number'</span><span style=\"font-weight: bold\">}</span>, <span style=\"color: #008000; text-decoration-color: #008000\">'type'</span>: <span style=\"color: #008000; text-decoration-color: #008000\">'array'</span><span style=\"font-weight: bold\">}</span>, <span style=\"font-weight: bold\">{</span><span style=\"color: #008000; text-decoration-color: #008000\">'type'</span>: <span style=\"color: #008000; text-decoration-color: #008000\">'null'</span><span style=\"font-weight: bold\">}]</span>,\n",
       "                    <span style=\"color: #008000; text-decoration-color: #008000\">'default'</span>: <span style=\"color: #800080; text-decoration-color: #800080; font-style: italic\">None</span>,\n",
       "                    <span style=\"color: #008000; text-decoration-color: #008000\">'description'</span>: <span style=\"color: #008000; text-decoration-color: #008000\">'Atomic mass.'</span>,\n",
       "                    <span style=\"color: #008000; text-decoration-color: #008000\">'title'</span>: <span style=\"color: #008000; text-decoration-color: #008000\">'mass'</span>,\n",
       "                    <span style=\"color: #008000; text-decoration-color: #008000\">'x-soft7-shape'</span>: <span style=\"font-weight: bold\">[</span><span style=\"color: #008000; text-decoration-color: #008000\">'N'</span><span style=\"font-weight: bold\">]</span>,\n",
       "                    <span style=\"color: #008000; text-decoration-color: #008000\">'x-soft7-unit'</span>: <span style=\"color: #008000; text-decoration-color: #008000\">'amu'</span>\n",
       "                <span style=\"font-weight: bold\">}</span>,\n",
       "                <span style=\"color: #008000; text-decoration-color: #008000\">'radius'</span>: <span style=\"font-weight: bold\">{</span>\n",
       "                    <span style=\"color: #008000; text-decoration-color: #008000\">'anyOf'</span>: <span style=\"font-weight: bold\">[{</span><span style=\"color: #008000; text-decoration-color: #008000\">'items'</span>: <span style=\"font-weight: bold\">{</span><span style=\"color: #008000; text-decoration-color: #008000\">'type'</span>: <span style=\"color: #008000; text-decoration-color: #008000\">'number'</span><span style=\"font-weight: bold\">}</span>, <span style=\"color: #008000; text-decoration-color: #008000\">'type'</span>: <span style=\"color: #008000; text-decoration-color: #008000\">'array'</span><span style=\"font-weight: bold\">}</span>, <span style=\"font-weight: bold\">{</span><span style=\"color: #008000; text-decoration-color: #008000\">'type'</span>: <span style=\"color: #008000; text-decoration-color: #008000\">'null'</span><span style=\"font-weight: bold\">}]</span>,\n",
       "                    <span style=\"color: #008000; text-decoration-color: #008000\">'default'</span>: <span style=\"color: #800080; text-decoration-color: #800080; font-style: italic\">None</span>,\n",
       "                    <span style=\"color: #008000; text-decoration-color: #008000\">'description'</span>: <span style=\"color: #008000; text-decoration-color: #008000\">'Atomic radius.'</span>,\n",
       "                    <span style=\"color: #008000; text-decoration-color: #008000\">'title'</span>: <span style=\"color: #008000; text-decoration-color: #008000\">'radius'</span>,\n",
       "                    <span style=\"color: #008000; text-decoration-color: #008000\">'x-soft7-shape'</span>: <span style=\"font-weight: bold\">[</span><span style=\"color: #008000; text-decoration-color: #008000\">'N'</span><span style=\"font-weight: bold\">]</span>,\n",
       "                    <span style=\"color: #008000; text-decoration-color: #008000\">'x-soft7-unit'</span>: <span style=\"color: #008000; text-decoration-color: #008000\">'Å'</span>\n",
       "                <span style=\"font-weight: bold\">}</span>\n",
       "            <span style=\"font-weight: bold\">}</span>,\n",
       "            <span style=\"color: #008000; text-decoration-color: #008000\">'title'</span>: <span style=\"color: #008000; text-decoration-color: #008000\">'MolecularSpeciesEntityProperties'</span>,\n",
       "            <span style=\"color: #008000; text-decoration-color: #008000\">'type'</span>: <span style=\"color: #008000; text-decoration-color: #008000\">'object'</span>\n",
       "        <span style=\"font-weight: bold\">}</span>\n",
       "    <span style=\"font-weight: bold\">}</span>,\n",
       "    <span style=\"color: #008000; text-decoration-color: #008000\">'additionalProperties'</span>: <span style=\"color: #ff0000; text-decoration-color: #ff0000; font-style: italic\">False</span>,\n",
       "    <span style=\"color: #008000; text-decoration-color: #008000\">'description'</span>: <span style=\"color: #008000; text-decoration-color: #008000\">'MolecularSpecies\\n\\nA bare-bones entity for testing.\\n\\nSOFT7 Entity Metadata:\\n    Identity: </span>\n",
       "<span style=\"color: #008000; text-decoration-color: #008000\">http://onto-ns.com/s7/0.1.0/MolecularSpecies\\n\\n    Namespace: http://onto-ns.com/s7\\n    Version: 0.1.0\\n    Name:</span>\n",
       "<span style=\"color: #008000; text-decoration-color: #008000\">MolecularSpecies\\n\\nDimensions:\\n    N (int): Number of elements.\\n\\nAttributes:\\n    atom (list[str]): An atom.\\n </span>\n",
       "<span style=\"color: #008000; text-decoration-color: #008000\">electrons (list[int]): Number of electrons.\\n    mass (list[float]): Atomic mass.\\n    radius (list[float]): Atomic</span>\n",
       "<span style=\"color: #008000; text-decoration-color: #008000\">radius.'</span>,\n",
       "    <span style=\"color: #008000; text-decoration-color: #008000\">'properties'</span>: <span style=\"font-weight: bold\">{</span>\n",
       "        <span style=\"color: #008000; text-decoration-color: #008000\">'dimensions'</span>: <span style=\"font-weight: bold\">{</span>\n",
       "            <span style=\"color: #008000; text-decoration-color: #008000\">'allOf'</span>: <span style=\"font-weight: bold\">[{</span><span style=\"color: #008000; text-decoration-color: #008000\">'$ref'</span>: <span style=\"color: #008000; text-decoration-color: #008000\">'#/$defs/MolecularSpeciesEntityDimensions'</span><span style=\"font-weight: bold\">}]</span>,\n",
       "            <span style=\"color: #008000; text-decoration-color: #008000\">'description'</span>: <span style=\"color: #008000; text-decoration-color: #008000\">'The MolecularSpecies SOFT7 entity dimensions.'</span>\n",
       "        <span style=\"font-weight: bold\">}</span>,\n",
       "        <span style=\"color: #008000; text-decoration-color: #008000\">'properties'</span>: <span style=\"font-weight: bold\">{</span>\n",
       "            <span style=\"color: #008000; text-decoration-color: #008000\">'description'</span>: <span style=\"color: #008000; text-decoration-color: #008000\">'The MolecularSpecies SOFT7 entity properties.'</span>,\n",
       "            <span style=\"color: #008000; text-decoration-color: #008000\">'allOf'</span>: <span style=\"font-weight: bold\">[{</span><span style=\"color: #008000; text-decoration-color: #008000\">'$ref'</span>: <span style=\"color: #008000; text-decoration-color: #008000\">'#/$defs/MolecularSpeciesEntityProperties'</span><span style=\"font-weight: bold\">}]</span>\n",
       "        <span style=\"font-weight: bold\">}</span>\n",
       "    <span style=\"font-weight: bold\">}</span>,\n",
       "    <span style=\"color: #008000; text-decoration-color: #008000\">'required'</span>: <span style=\"font-weight: bold\">[</span><span style=\"color: #008000; text-decoration-color: #008000\">'dimensions'</span>, <span style=\"color: #008000; text-decoration-color: #008000\">'properties'</span><span style=\"font-weight: bold\">]</span>,\n",
       "    <span style=\"color: #008000; text-decoration-color: #008000\">'title'</span>: <span style=\"color: #008000; text-decoration-color: #008000\">'MolecularSpeciesEntity'</span>,\n",
       "    <span style=\"color: #008000; text-decoration-color: #008000\">'type'</span>: <span style=\"color: #008000; text-decoration-color: #008000\">'object'</span>\n",
       "<span style=\"font-weight: bold\">}</span>\n",
       "</pre>\n"
      ],
      "text/plain": [
       "\u001b[1m{\u001b[0m\n",
       "    \u001b[32m'$defs'\u001b[0m: \u001b[1m{\u001b[0m\n",
       "        \u001b[32m'MolecularSpeciesEntityDimensions'\u001b[0m: \u001b[1m{\u001b[0m\n",
       "            \u001b[32m'additionalProperties'\u001b[0m: \u001b[3;91mFalse\u001b[0m,\n",
       "            \u001b[32m'description'\u001b[0m: \u001b[32m'MolecularSpeciesDimensions\\n\\nDimensions for the MolecularSpecies SOFT7 data \u001b[0m\n",
       "\u001b[32msource.\\n\\nSOFT7 Entity: http://onto-ns.com/s7/0.1.0/MolecularSpecies\\n\\nAttributes:\\n    N \u001b[0m\u001b[32m(\u001b[0m\u001b[32mint\u001b[0m\u001b[32m)\u001b[0m\u001b[32m: Number of \u001b[0m\n",
       "\u001b[32melements.'\u001b[0m,\n",
       "            \u001b[32m'properties'\u001b[0m: \u001b[1m{\u001b[0m\n",
       "                \u001b[32m'N'\u001b[0m: \u001b[1m{\u001b[0m\n",
       "                    \u001b[32m'anyOf'\u001b[0m: \u001b[1m[\u001b[0m\u001b[1m{\u001b[0m\u001b[32m'type'\u001b[0m: \u001b[32m'integer'\u001b[0m\u001b[1m}\u001b[0m, \u001b[1m{\u001b[0m\u001b[32m'type'\u001b[0m: \u001b[32m'null'\u001b[0m\u001b[1m}\u001b[0m\u001b[1m]\u001b[0m,\n",
       "                    \u001b[32m'default'\u001b[0m: \u001b[3;35mNone\u001b[0m,\n",
       "                    \u001b[32m'description'\u001b[0m: \u001b[32m'Number of elements.'\u001b[0m,\n",
       "                    \u001b[32m'title'\u001b[0m: \u001b[32m'N'\u001b[0m\n",
       "                \u001b[1m}\u001b[0m\n",
       "            \u001b[1m}\u001b[0m,\n",
       "            \u001b[32m'title'\u001b[0m: \u001b[32m'MolecularSpeciesEntityDimensions'\u001b[0m,\n",
       "            \u001b[32m'type'\u001b[0m: \u001b[32m'object'\u001b[0m\n",
       "        \u001b[1m}\u001b[0m,\n",
       "        \u001b[32m'MolecularSpeciesEntityProperties'\u001b[0m: \u001b[1m{\u001b[0m\n",
       "            \u001b[32m'additionalProperties'\u001b[0m: \u001b[3;91mFalse\u001b[0m,\n",
       "            \u001b[32m'description'\u001b[0m: \u001b[32m'MolecularSpeciesProperties\\n\\nProperties for the MolecularSpecies SOFT7 data \u001b[0m\n",
       "\u001b[32msource.\\n\\nSOFT7 Entity: http://onto-ns.com/s7/0.1.0/MolecularSpecies\\n\\nAttributes:\\n    atom \u001b[0m\u001b[32m(\u001b[0m\u001b[32mlist\u001b[0m\u001b[32m[\u001b[0m\u001b[32mstr\u001b[0m\u001b[32m]\u001b[0m\u001b[32m)\u001b[0m\u001b[32m: An \u001b[0m\n",
       "\u001b[32matom.\\n    electrons \u001b[0m\u001b[32m(\u001b[0m\u001b[32mlist\u001b[0m\u001b[32m[\u001b[0m\u001b[32mint\u001b[0m\u001b[32m]\u001b[0m\u001b[32m)\u001b[0m\u001b[32m: Number of electrons.\\n    mass \u001b[0m\u001b[32m(\u001b[0m\u001b[32mlist\u001b[0m\u001b[32m[\u001b[0m\u001b[32mfloat\u001b[0m\u001b[32m]\u001b[0m\u001b[32m)\u001b[0m\u001b[32m: Atomic mass.\\n    radius \u001b[0m\n",
       "\u001b[32m(\u001b[0m\u001b[32mlist\u001b[0m\u001b[32m[\u001b[0m\u001b[32mfloat\u001b[0m\u001b[32m]\u001b[0m\u001b[32m)\u001b[0m\u001b[32m: Atomic radius.'\u001b[0m,\n",
       "            \u001b[32m'properties'\u001b[0m: \u001b[1m{\u001b[0m\n",
       "                \u001b[32m'atom'\u001b[0m: \u001b[1m{\u001b[0m\n",
       "                    \u001b[32m'anyOf'\u001b[0m: \u001b[1m[\u001b[0m\u001b[1m{\u001b[0m\u001b[32m'items'\u001b[0m: \u001b[1m{\u001b[0m\u001b[32m'type'\u001b[0m: \u001b[32m'string'\u001b[0m\u001b[1m}\u001b[0m, \u001b[32m'type'\u001b[0m: \u001b[32m'array'\u001b[0m\u001b[1m}\u001b[0m, \u001b[1m{\u001b[0m\u001b[32m'type'\u001b[0m: \u001b[32m'null'\u001b[0m\u001b[1m}\u001b[0m\u001b[1m]\u001b[0m,\n",
       "                    \u001b[32m'default'\u001b[0m: \u001b[3;35mNone\u001b[0m,\n",
       "                    \u001b[32m'description'\u001b[0m: \u001b[32m'An atom.'\u001b[0m,\n",
       "                    \u001b[32m'title'\u001b[0m: \u001b[32m'atom'\u001b[0m,\n",
       "                    \u001b[32m'x-soft7-shape'\u001b[0m: \u001b[1m[\u001b[0m\u001b[32m'N'\u001b[0m\u001b[1m]\u001b[0m\n",
       "                \u001b[1m}\u001b[0m,\n",
       "                \u001b[32m'electrons'\u001b[0m: \u001b[1m{\u001b[0m\n",
       "                    \u001b[32m'anyOf'\u001b[0m: \u001b[1m[\u001b[0m\u001b[1m{\u001b[0m\u001b[32m'items'\u001b[0m: \u001b[1m{\u001b[0m\u001b[32m'type'\u001b[0m: \u001b[32m'integer'\u001b[0m\u001b[1m}\u001b[0m, \u001b[32m'type'\u001b[0m: \u001b[32m'array'\u001b[0m\u001b[1m}\u001b[0m, \u001b[1m{\u001b[0m\u001b[32m'type'\u001b[0m: \u001b[32m'null'\u001b[0m\u001b[1m}\u001b[0m\u001b[1m]\u001b[0m,\n",
       "                    \u001b[32m'default'\u001b[0m: \u001b[3;35mNone\u001b[0m,\n",
       "                    \u001b[32m'description'\u001b[0m: \u001b[32m'Number of electrons.'\u001b[0m,\n",
       "                    \u001b[32m'title'\u001b[0m: \u001b[32m'electrons'\u001b[0m,\n",
       "                    \u001b[32m'x-soft7-shape'\u001b[0m: \u001b[1m[\u001b[0m\u001b[32m'N'\u001b[0m\u001b[1m]\u001b[0m\n",
       "                \u001b[1m}\u001b[0m,\n",
       "                \u001b[32m'mass'\u001b[0m: \u001b[1m{\u001b[0m\n",
       "                    \u001b[32m'anyOf'\u001b[0m: \u001b[1m[\u001b[0m\u001b[1m{\u001b[0m\u001b[32m'items'\u001b[0m: \u001b[1m{\u001b[0m\u001b[32m'type'\u001b[0m: \u001b[32m'number'\u001b[0m\u001b[1m}\u001b[0m, \u001b[32m'type'\u001b[0m: \u001b[32m'array'\u001b[0m\u001b[1m}\u001b[0m, \u001b[1m{\u001b[0m\u001b[32m'type'\u001b[0m: \u001b[32m'null'\u001b[0m\u001b[1m}\u001b[0m\u001b[1m]\u001b[0m,\n",
       "                    \u001b[32m'default'\u001b[0m: \u001b[3;35mNone\u001b[0m,\n",
       "                    \u001b[32m'description'\u001b[0m: \u001b[32m'Atomic mass.'\u001b[0m,\n",
       "                    \u001b[32m'title'\u001b[0m: \u001b[32m'mass'\u001b[0m,\n",
       "                    \u001b[32m'x-soft7-shape'\u001b[0m: \u001b[1m[\u001b[0m\u001b[32m'N'\u001b[0m\u001b[1m]\u001b[0m,\n",
       "                    \u001b[32m'x-soft7-unit'\u001b[0m: \u001b[32m'amu'\u001b[0m\n",
       "                \u001b[1m}\u001b[0m,\n",
       "                \u001b[32m'radius'\u001b[0m: \u001b[1m{\u001b[0m\n",
       "                    \u001b[32m'anyOf'\u001b[0m: \u001b[1m[\u001b[0m\u001b[1m{\u001b[0m\u001b[32m'items'\u001b[0m: \u001b[1m{\u001b[0m\u001b[32m'type'\u001b[0m: \u001b[32m'number'\u001b[0m\u001b[1m}\u001b[0m, \u001b[32m'type'\u001b[0m: \u001b[32m'array'\u001b[0m\u001b[1m}\u001b[0m, \u001b[1m{\u001b[0m\u001b[32m'type'\u001b[0m: \u001b[32m'null'\u001b[0m\u001b[1m}\u001b[0m\u001b[1m]\u001b[0m,\n",
       "                    \u001b[32m'default'\u001b[0m: \u001b[3;35mNone\u001b[0m,\n",
       "                    \u001b[32m'description'\u001b[0m: \u001b[32m'Atomic radius.'\u001b[0m,\n",
       "                    \u001b[32m'title'\u001b[0m: \u001b[32m'radius'\u001b[0m,\n",
       "                    \u001b[32m'x-soft7-shape'\u001b[0m: \u001b[1m[\u001b[0m\u001b[32m'N'\u001b[0m\u001b[1m]\u001b[0m,\n",
       "                    \u001b[32m'x-soft7-unit'\u001b[0m: \u001b[32m'Å'\u001b[0m\n",
       "                \u001b[1m}\u001b[0m\n",
       "            \u001b[1m}\u001b[0m,\n",
       "            \u001b[32m'title'\u001b[0m: \u001b[32m'MolecularSpeciesEntityProperties'\u001b[0m,\n",
       "            \u001b[32m'type'\u001b[0m: \u001b[32m'object'\u001b[0m\n",
       "        \u001b[1m}\u001b[0m\n",
       "    \u001b[1m}\u001b[0m,\n",
       "    \u001b[32m'additionalProperties'\u001b[0m: \u001b[3;91mFalse\u001b[0m,\n",
       "    \u001b[32m'description'\u001b[0m: \u001b[32m'MolecularSpecies\\n\\nA bare-bones entity for testing.\\n\\nSOFT7 Entity Metadata:\\n    Identity: \u001b[0m\n",
       "\u001b[32mhttp://onto-ns.com/s7/0.1.0/MolecularSpecies\\n\\n    Namespace: http://onto-ns.com/s7\\n    Version: 0.1.0\\n    Name:\u001b[0m\n",
       "\u001b[32mMolecularSpecies\\n\\nDimensions:\\n    N \u001b[0m\u001b[32m(\u001b[0m\u001b[32mint\u001b[0m\u001b[32m)\u001b[0m\u001b[32m: Number of elements.\\n\\nAttributes:\\n    atom \u001b[0m\u001b[32m(\u001b[0m\u001b[32mlist\u001b[0m\u001b[32m[\u001b[0m\u001b[32mstr\u001b[0m\u001b[32m]\u001b[0m\u001b[32m)\u001b[0m\u001b[32m: An atom.\\n \u001b[0m\n",
       "\u001b[32melectrons \u001b[0m\u001b[32m(\u001b[0m\u001b[32mlist\u001b[0m\u001b[32m[\u001b[0m\u001b[32mint\u001b[0m\u001b[32m]\u001b[0m\u001b[32m)\u001b[0m\u001b[32m: Number of electrons.\\n    mass \u001b[0m\u001b[32m(\u001b[0m\u001b[32mlist\u001b[0m\u001b[32m[\u001b[0m\u001b[32mfloat\u001b[0m\u001b[32m]\u001b[0m\u001b[32m)\u001b[0m\u001b[32m: Atomic mass.\\n    radius \u001b[0m\u001b[32m(\u001b[0m\u001b[32mlist\u001b[0m\u001b[32m[\u001b[0m\u001b[32mfloat\u001b[0m\u001b[32m]\u001b[0m\u001b[32m)\u001b[0m\u001b[32m: Atomic\u001b[0m\n",
       "\u001b[32mradius.'\u001b[0m,\n",
       "    \u001b[32m'properties'\u001b[0m: \u001b[1m{\u001b[0m\n",
       "        \u001b[32m'dimensions'\u001b[0m: \u001b[1m{\u001b[0m\n",
       "            \u001b[32m'allOf'\u001b[0m: \u001b[1m[\u001b[0m\u001b[1m{\u001b[0m\u001b[32m'$ref'\u001b[0m: \u001b[32m'#/$defs/MolecularSpeciesEntityDimensions'\u001b[0m\u001b[1m}\u001b[0m\u001b[1m]\u001b[0m,\n",
       "            \u001b[32m'description'\u001b[0m: \u001b[32m'The MolecularSpecies SOFT7 entity dimensions.'\u001b[0m\n",
       "        \u001b[1m}\u001b[0m,\n",
       "        \u001b[32m'properties'\u001b[0m: \u001b[1m{\u001b[0m\n",
       "            \u001b[32m'description'\u001b[0m: \u001b[32m'The MolecularSpecies SOFT7 entity properties.'\u001b[0m,\n",
       "            \u001b[32m'allOf'\u001b[0m: \u001b[1m[\u001b[0m\u001b[1m{\u001b[0m\u001b[32m'$ref'\u001b[0m: \u001b[32m'#/$defs/MolecularSpeciesEntityProperties'\u001b[0m\u001b[1m}\u001b[0m\u001b[1m]\u001b[0m\n",
       "        \u001b[1m}\u001b[0m\n",
       "    \u001b[1m}\u001b[0m,\n",
       "    \u001b[32m'required'\u001b[0m: \u001b[1m[\u001b[0m\u001b[32m'dimensions'\u001b[0m, \u001b[32m'properties'\u001b[0m\u001b[1m]\u001b[0m,\n",
       "    \u001b[32m'title'\u001b[0m: \u001b[32m'MolecularSpeciesEntity'\u001b[0m,\n",
       "    \u001b[32m'type'\u001b[0m: \u001b[32m'object'\u001b[0m\n",
       "\u001b[1m}\u001b[0m\n"
      ]
     },
     "metadata": {},
     "output_type": "display_data"
    }
   ],
   "source": [
    "from s7.factories import create_entity\n",
    "\n",
    "MolecularSpecies = create_entity(entity)\n",
    "\n",
    "print(f\"Class: {MolecularSpecies}\")\n",
    "print(MolecularSpecies.__doc__)\n",
    "print(\"JSON Schema:\")\n",
    "print(MolecularSpecies.model_json_schema())"
   ]
  },
  {
   "cell_type": "markdown",
   "metadata": {},
   "source": [
    "The entity is still accessible under the `entity` class attribute:"
   ]
  },
  {
   "cell_type": "code",
   "execution_count": 95,
   "metadata": {},
   "outputs": [
    {
     "data": {
      "text/html": [
       "<pre style=\"white-space:pre;overflow-x:auto;line-height:normal;font-family:Menlo,'DejaVu Sans Mono',consolas,'Courier New',monospace\"><span style=\"color: #800080; text-decoration-color: #800080; font-weight: bold\">SOFT7Entity</span><span style=\"font-weight: bold\">(</span>\n",
       "    <span style=\"color: #808000; text-decoration-color: #808000\">identity</span>=<span style=\"color: #800080; text-decoration-color: #800080; font-weight: bold\">Url</span><span style=\"font-weight: bold\">(</span><span style=\"color: #008000; text-decoration-color: #008000\">'http://onto-ns.com/s7/0.1.0/MolecularSpecies'</span><span style=\"font-weight: bold\">)</span>,\n",
       "    <span style=\"color: #808000; text-decoration-color: #808000\">description</span>=<span style=\"color: #008000; text-decoration-color: #008000\">'A bare-bones entity for testing.'</span>,\n",
       "    <span style=\"color: #808000; text-decoration-color: #808000\">dimensions</span>=<span style=\"font-weight: bold\">{</span><span style=\"color: #008000; text-decoration-color: #008000\">'N'</span>: <span style=\"color: #008000; text-decoration-color: #008000\">'Number of elements.'</span><span style=\"font-weight: bold\">}</span>,\n",
       "    <span style=\"color: #808000; text-decoration-color: #808000\">properties</span>=<span style=\"font-weight: bold\">{</span>\n",
       "        <span style=\"color: #008000; text-decoration-color: #008000\">'atom'</span>: <span style=\"color: #800080; text-decoration-color: #800080; font-weight: bold\">SOFT7EntityProperty</span><span style=\"font-weight: bold\">(</span><span style=\"color: #808000; text-decoration-color: #808000\">type</span>=<span style=\"color: #008000; text-decoration-color: #008000\">'string'</span>, <span style=\"color: #808000; text-decoration-color: #808000\">shape</span>=<span style=\"font-weight: bold\">[</span><span style=\"color: #008000; text-decoration-color: #008000\">'N'</span><span style=\"font-weight: bold\">]</span>, <span style=\"color: #808000; text-decoration-color: #808000\">description</span>=<span style=\"color: #008000; text-decoration-color: #008000\">'An atom.'</span>, <span style=\"color: #808000; text-decoration-color: #808000\">unit</span>=<span style=\"color: #800080; text-decoration-color: #800080; font-style: italic\">None</span><span style=\"font-weight: bold\">)</span>,\n",
       "        <span style=\"color: #008000; text-decoration-color: #008000\">'electrons'</span>: <span style=\"color: #800080; text-decoration-color: #800080; font-weight: bold\">SOFT7EntityProperty</span><span style=\"font-weight: bold\">(</span><span style=\"color: #808000; text-decoration-color: #808000\">type</span>=<span style=\"color: #008000; text-decoration-color: #008000\">'int'</span>, <span style=\"color: #808000; text-decoration-color: #808000\">shape</span>=<span style=\"font-weight: bold\">[</span><span style=\"color: #008000; text-decoration-color: #008000\">'N'</span><span style=\"font-weight: bold\">]</span>, <span style=\"color: #808000; text-decoration-color: #808000\">description</span>=<span style=\"color: #008000; text-decoration-color: #008000\">'Number of electrons.'</span>, <span style=\"color: #808000; text-decoration-color: #808000\">unit</span>=<span style=\"color: #800080; text-decoration-color: #800080; font-style: italic\">None</span><span style=\"font-weight: bold\">)</span>,\n",
       "        <span style=\"color: #008000; text-decoration-color: #008000\">'mass'</span>: <span style=\"color: #800080; text-decoration-color: #800080; font-weight: bold\">SOFT7EntityProperty</span><span style=\"font-weight: bold\">(</span><span style=\"color: #808000; text-decoration-color: #808000\">type</span>=<span style=\"color: #008000; text-decoration-color: #008000\">'float'</span>, <span style=\"color: #808000; text-decoration-color: #808000\">shape</span>=<span style=\"font-weight: bold\">[</span><span style=\"color: #008000; text-decoration-color: #008000\">'N'</span><span style=\"font-weight: bold\">]</span>, <span style=\"color: #808000; text-decoration-color: #808000\">description</span>=<span style=\"color: #008000; text-decoration-color: #008000\">'Atomic mass.'</span>, <span style=\"color: #808000; text-decoration-color: #808000\">unit</span>=<span style=\"color: #008000; text-decoration-color: #008000\">'amu'</span><span style=\"font-weight: bold\">)</span>,\n",
       "        <span style=\"color: #008000; text-decoration-color: #008000\">'radius'</span>: <span style=\"color: #800080; text-decoration-color: #800080; font-weight: bold\">SOFT7EntityProperty</span><span style=\"font-weight: bold\">(</span><span style=\"color: #808000; text-decoration-color: #808000\">type</span>=<span style=\"color: #008000; text-decoration-color: #008000\">'float'</span>, <span style=\"color: #808000; text-decoration-color: #808000\">shape</span>=<span style=\"font-weight: bold\">[</span><span style=\"color: #008000; text-decoration-color: #008000\">'N'</span><span style=\"font-weight: bold\">]</span>, <span style=\"color: #808000; text-decoration-color: #808000\">description</span>=<span style=\"color: #008000; text-decoration-color: #008000\">'Atomic radius.'</span>, <span style=\"color: #808000; text-decoration-color: #808000\">unit</span>=<span style=\"color: #008000; text-decoration-color: #008000\">'Å'</span><span style=\"font-weight: bold\">)</span>\n",
       "    <span style=\"font-weight: bold\">}</span>\n",
       "<span style=\"font-weight: bold\">)</span>\n",
       "</pre>\n"
      ],
      "text/plain": [
       "\u001b[1;35mSOFT7Entity\u001b[0m\u001b[1m(\u001b[0m\n",
       "    \u001b[33midentity\u001b[0m=\u001b[1;35mUrl\u001b[0m\u001b[1m(\u001b[0m\u001b[32m'http://onto-ns.com/s7/0.1.0/MolecularSpecies'\u001b[0m\u001b[1m)\u001b[0m,\n",
       "    \u001b[33mdescription\u001b[0m=\u001b[32m'A bare-bones entity for testing.'\u001b[0m,\n",
       "    \u001b[33mdimensions\u001b[0m=\u001b[1m{\u001b[0m\u001b[32m'N'\u001b[0m: \u001b[32m'Number of elements.'\u001b[0m\u001b[1m}\u001b[0m,\n",
       "    \u001b[33mproperties\u001b[0m=\u001b[1m{\u001b[0m\n",
       "        \u001b[32m'atom'\u001b[0m: \u001b[1;35mSOFT7EntityProperty\u001b[0m\u001b[1m(\u001b[0m\u001b[33mtype\u001b[0m=\u001b[32m'string'\u001b[0m, \u001b[33mshape\u001b[0m=\u001b[1m[\u001b[0m\u001b[32m'N'\u001b[0m\u001b[1m]\u001b[0m, \u001b[33mdescription\u001b[0m=\u001b[32m'An atom.'\u001b[0m, \u001b[33munit\u001b[0m=\u001b[3;35mNone\u001b[0m\u001b[1m)\u001b[0m,\n",
       "        \u001b[32m'electrons'\u001b[0m: \u001b[1;35mSOFT7EntityProperty\u001b[0m\u001b[1m(\u001b[0m\u001b[33mtype\u001b[0m=\u001b[32m'int'\u001b[0m, \u001b[33mshape\u001b[0m=\u001b[1m[\u001b[0m\u001b[32m'N'\u001b[0m\u001b[1m]\u001b[0m, \u001b[33mdescription\u001b[0m=\u001b[32m'Number of electrons.'\u001b[0m, \u001b[33munit\u001b[0m=\u001b[3;35mNone\u001b[0m\u001b[1m)\u001b[0m,\n",
       "        \u001b[32m'mass'\u001b[0m: \u001b[1;35mSOFT7EntityProperty\u001b[0m\u001b[1m(\u001b[0m\u001b[33mtype\u001b[0m=\u001b[32m'float'\u001b[0m, \u001b[33mshape\u001b[0m=\u001b[1m[\u001b[0m\u001b[32m'N'\u001b[0m\u001b[1m]\u001b[0m, \u001b[33mdescription\u001b[0m=\u001b[32m'Atomic mass.'\u001b[0m, \u001b[33munit\u001b[0m=\u001b[32m'amu'\u001b[0m\u001b[1m)\u001b[0m,\n",
       "        \u001b[32m'radius'\u001b[0m: \u001b[1;35mSOFT7EntityProperty\u001b[0m\u001b[1m(\u001b[0m\u001b[33mtype\u001b[0m=\u001b[32m'float'\u001b[0m, \u001b[33mshape\u001b[0m=\u001b[1m[\u001b[0m\u001b[32m'N'\u001b[0m\u001b[1m]\u001b[0m, \u001b[33mdescription\u001b[0m=\u001b[32m'Atomic radius.'\u001b[0m, \u001b[33munit\u001b[0m=\u001b[32m'Å'\u001b[0m\u001b[1m)\u001b[0m\n",
       "    \u001b[1m}\u001b[0m\n",
       "\u001b[1m)\u001b[0m\n"
      ]
     },
     "metadata": {},
     "output_type": "display_data"
    }
   ],
   "source": [
    "print(MolecularSpecies.entity)"
   ]
  },
  {
   "cell_type": "markdown",
   "metadata": {},
   "source": [
    "When generating a new class, it can be imported from the `s7.factories.generated_classes` module:"
   ]
  },
  {
   "cell_type": "code",
   "execution_count": 96,
   "metadata": {},
   "outputs": [
    {
     "data": {
      "text/html": [
       "<pre style=\"white-space:pre;overflow-x:auto;line-height:normal;font-family:Menlo,'DejaVu Sans Mono',consolas,'Courier New',monospace\"><span style=\"font-weight: bold\">[</span>\n",
       "    <span style=\"font-weight: bold\">&lt;</span><span style=\"color: #ff00ff; text-decoration-color: #ff00ff; font-weight: bold\">class</span><span style=\"color: #000000; text-decoration-color: #000000\"> </span><span style=\"color: #008000; text-decoration-color: #008000\">'s7.factories.generated_classes.MolecularSpeciesEntityDimensions'</span><span style=\"color: #000000; text-decoration-color: #000000\">&gt;,</span>\n",
       "<span style=\"color: #000000; text-decoration-color: #000000\">    &lt;class </span><span style=\"color: #008000; text-decoration-color: #008000\">'s7.factories.generated_classes.MolecularSpeciesEntityProperties'</span><span style=\"color: #000000; text-decoration-color: #000000\">&gt;,</span>\n",
       "<span style=\"color: #000000; text-decoration-color: #000000\">    &lt;class </span><span style=\"color: #008000; text-decoration-color: #008000\">'s7.factories.generated_classes.MolecularSpeciesEntity'</span><span style=\"font-weight: bold\">&gt;</span>\n",
       "<span style=\"font-weight: bold\">]</span>\n",
       "</pre>\n"
      ],
      "text/plain": [
       "\u001b[1m[\u001b[0m\n",
       "    \u001b[1m<\u001b[0m\u001b[1;95mclass\u001b[0m\u001b[39m \u001b[0m\u001b[32m's7.factories.generated_classes.MolecularSpeciesEntityDimensions'\u001b[0m\u001b[39m>,\u001b[0m\n",
       "\u001b[39m    <class \u001b[0m\u001b[32m's7.factories.generated_classes.MolecularSpeciesEntityProperties'\u001b[0m\u001b[39m>,\u001b[0m\n",
       "\u001b[39m    <class \u001b[0m\u001b[32m's7.factories.generated_classes.MolecularSpeciesEntity'\u001b[0m\u001b[1m>\u001b[0m\n",
       "\u001b[1m]\u001b[0m\n"
      ]
     },
     "metadata": {},
     "output_type": "display_data"
    }
   ],
   "source": [
    "from s7.factories import generated_classes\n",
    "\n",
    "# Here we are printing all the classes that were generated by the factory.\n",
    "# More specifically, we are printing all the classes that are in the generated_classes\n",
    "# module.\n",
    "print([_ for _ in generated_classes.__dict__.values() if isinstance(_, type)])"
   ]
  },
  {
   "cell_type": "markdown",
   "metadata": {},
   "source": [
    "Note that along with the generated class (here `MolecularSpeciesEntity`), two more classes are generated to represent the entity's properties (here `MolecularSpeciesEntityProperties`) and dimensions (here `MolecularSpeciesEntityDimensions`).\n",
    "\n",
    "One can even import the named entity classes directly from the `s7.factories.generated_classes` module:"
   ]
  },
  {
   "cell_type": "code",
   "execution_count": 97,
   "metadata": {},
   "outputs": [
    {
     "data": {
      "text/html": [
       "<pre style=\"white-space:pre;overflow-x:auto;line-height:normal;font-family:Menlo,'DejaVu Sans Mono',consolas,'Courier New',monospace\"><span style=\"font-weight: bold\">&lt;</span><span style=\"color: #ff00ff; text-decoration-color: #ff00ff; font-weight: bold\">class</span><span style=\"color: #000000; text-decoration-color: #000000\"> </span><span style=\"color: #008000; text-decoration-color: #008000\">'s7.factories.generated_classes.MolecularSpeciesEntity'</span><span style=\"font-weight: bold\">&gt;</span>\n",
       "</pre>\n"
      ],
      "text/plain": [
       "\u001b[1m<\u001b[0m\u001b[1;95mclass\u001b[0m\u001b[39m \u001b[0m\u001b[32m's7.factories.generated_classes.MolecularSpeciesEntity'\u001b[0m\u001b[1m>\u001b[0m\n"
      ]
     },
     "metadata": {},
     "output_type": "display_data"
    },
    {
     "data": {
      "text/html": [
       "<pre style=\"white-space:pre;overflow-x:auto;line-height:normal;font-family:Menlo,'DejaVu Sans Mono',consolas,'Courier New',monospace\">The imported <span style=\"color: #008000; text-decoration-color: #008000\">'MolecularSpeciesEntity'</span> class is the exactly same as the previously generated <span style=\"color: #008000; text-decoration-color: #008000\">'MolecularSpecies'</span> \n",
       "class: <span style=\"color: #00ff00; text-decoration-color: #00ff00; font-style: italic\">True</span>\n",
       "</pre>\n"
      ],
      "text/plain": [
       "The imported \u001b[32m'MolecularSpeciesEntity'\u001b[0m class is the exactly same as the previously generated \u001b[32m'MolecularSpecies'\u001b[0m \n",
       "class: \u001b[3;92mTrue\u001b[0m\n"
      ]
     },
     "metadata": {},
     "output_type": "display_data"
    },
    {
     "data": {
      "text/html": [
       "<pre style=\"white-space:pre;overflow-x:auto;line-height:normal;font-family:Menlo,'DejaVu Sans Mono',consolas,'Courier New',monospace\">MolecularSpecies\n",
       "\n",
       "    A bare-bones entity for testing.\n",
       "\n",
       "    SOFT7 Entity Metadata:\n",
       "        Identity: <span style=\"color: #0000ff; text-decoration-color: #0000ff; text-decoration: underline\">http://onto-ns.com/s7/0.1.0/MolecularSpecies</span>\n",
       "\n",
       "        Namespace: <span style=\"color: #0000ff; text-decoration-color: #0000ff; text-decoration: underline\">http://onto-ns.com/s7</span>\n",
       "        Version: <span style=\"color: #008080; text-decoration-color: #008080; font-weight: bold\">0.1</span>.<span style=\"color: #008080; text-decoration-color: #008080; font-weight: bold\">0</span>\n",
       "        Name: MolecularSpecies\n",
       "\n",
       "    Dimensions:\n",
       "        N <span style=\"font-weight: bold\">(</span>int<span style=\"font-weight: bold\">)</span>: Number of elements.\n",
       "\n",
       "    Attributes:\n",
       "        atom <span style=\"font-weight: bold\">(</span>list<span style=\"font-weight: bold\">)</span>: An atom.\n",
       "        electrons <span style=\"font-weight: bold\">(</span>list<span style=\"font-weight: bold\">)</span>: Number of electrons.\n",
       "        mass <span style=\"font-weight: bold\">(</span>list<span style=\"font-weight: bold\">)</span>: Atomic mass.\n",
       "        radius <span style=\"font-weight: bold\">(</span>list<span style=\"font-weight: bold\">)</span>: Atomic radius.\n",
       "\n",
       "    \n",
       "</pre>\n"
      ],
      "text/plain": [
       "MolecularSpecies\n",
       "\n",
       "    A bare-bones entity for testing.\n",
       "\n",
       "    SOFT7 Entity Metadata:\n",
       "        Identity: \u001b[4;94mhttp://onto-ns.com/s7/0.1.0/MolecularSpecies\u001b[0m\n",
       "\n",
       "        Namespace: \u001b[4;94mhttp://onto-ns.com/s7\u001b[0m\n",
       "        Version: \u001b[1;36m0.1\u001b[0m.\u001b[1;36m0\u001b[0m\n",
       "        Name: MolecularSpecies\n",
       "\n",
       "    Dimensions:\n",
       "        N \u001b[1m(\u001b[0mint\u001b[1m)\u001b[0m: Number of elements.\n",
       "\n",
       "    Attributes:\n",
       "        atom \u001b[1m(\u001b[0mlist\u001b[1m)\u001b[0m: An atom.\n",
       "        electrons \u001b[1m(\u001b[0mlist\u001b[1m)\u001b[0m: Number of electrons.\n",
       "        mass \u001b[1m(\u001b[0mlist\u001b[1m)\u001b[0m: Atomic mass.\n",
       "        radius \u001b[1m(\u001b[0mlist\u001b[1m)\u001b[0m: Atomic radius.\n",
       "\n",
       "    \n"
      ]
     },
     "metadata": {},
     "output_type": "display_data"
    },
    {
     "data": {
      "text/html": [
       "<pre style=\"white-space:pre;overflow-x:auto;line-height:normal;font-family:Menlo,'DejaVu Sans Mono',consolas,'Courier New',monospace\"><span style=\"color: #800080; text-decoration-color: #800080; font-weight: bold\">SOFT7Entity</span><span style=\"font-weight: bold\">(</span>\n",
       "    <span style=\"color: #808000; text-decoration-color: #808000\">identity</span>=<span style=\"color: #800080; text-decoration-color: #800080; font-weight: bold\">Url</span><span style=\"font-weight: bold\">(</span><span style=\"color: #008000; text-decoration-color: #008000\">'http://onto-ns.com/s7/0.1.0/MolecularSpecies'</span><span style=\"font-weight: bold\">)</span>,\n",
       "    <span style=\"color: #808000; text-decoration-color: #808000\">description</span>=<span style=\"color: #008000; text-decoration-color: #008000\">'A bare-bones entity for testing.'</span>,\n",
       "    <span style=\"color: #808000; text-decoration-color: #808000\">dimensions</span>=<span style=\"font-weight: bold\">{</span><span style=\"color: #008000; text-decoration-color: #008000\">'N'</span>: <span style=\"color: #008000; text-decoration-color: #008000\">'Number of elements.'</span><span style=\"font-weight: bold\">}</span>,\n",
       "    <span style=\"color: #808000; text-decoration-color: #808000\">properties</span>=<span style=\"font-weight: bold\">{</span>\n",
       "        <span style=\"color: #008000; text-decoration-color: #008000\">'atom'</span>: <span style=\"color: #800080; text-decoration-color: #800080; font-weight: bold\">SOFT7EntityProperty</span><span style=\"font-weight: bold\">(</span><span style=\"color: #808000; text-decoration-color: #808000\">type</span>=<span style=\"color: #008000; text-decoration-color: #008000\">'string'</span>, <span style=\"color: #808000; text-decoration-color: #808000\">shape</span>=<span style=\"font-weight: bold\">[</span><span style=\"color: #008000; text-decoration-color: #008000\">'N'</span><span style=\"font-weight: bold\">]</span>, <span style=\"color: #808000; text-decoration-color: #808000\">description</span>=<span style=\"color: #008000; text-decoration-color: #008000\">'An atom.'</span>, <span style=\"color: #808000; text-decoration-color: #808000\">unit</span>=<span style=\"color: #800080; text-decoration-color: #800080; font-style: italic\">None</span><span style=\"font-weight: bold\">)</span>,\n",
       "        <span style=\"color: #008000; text-decoration-color: #008000\">'electrons'</span>: <span style=\"color: #800080; text-decoration-color: #800080; font-weight: bold\">SOFT7EntityProperty</span><span style=\"font-weight: bold\">(</span><span style=\"color: #808000; text-decoration-color: #808000\">type</span>=<span style=\"color: #008000; text-decoration-color: #008000\">'int'</span>, <span style=\"color: #808000; text-decoration-color: #808000\">shape</span>=<span style=\"font-weight: bold\">[</span><span style=\"color: #008000; text-decoration-color: #008000\">'N'</span><span style=\"font-weight: bold\">]</span>, <span style=\"color: #808000; text-decoration-color: #808000\">description</span>=<span style=\"color: #008000; text-decoration-color: #008000\">'Number of electrons.'</span>, <span style=\"color: #808000; text-decoration-color: #808000\">unit</span>=<span style=\"color: #800080; text-decoration-color: #800080; font-style: italic\">None</span><span style=\"font-weight: bold\">)</span>,\n",
       "        <span style=\"color: #008000; text-decoration-color: #008000\">'mass'</span>: <span style=\"color: #800080; text-decoration-color: #800080; font-weight: bold\">SOFT7EntityProperty</span><span style=\"font-weight: bold\">(</span><span style=\"color: #808000; text-decoration-color: #808000\">type</span>=<span style=\"color: #008000; text-decoration-color: #008000\">'float'</span>, <span style=\"color: #808000; text-decoration-color: #808000\">shape</span>=<span style=\"font-weight: bold\">[</span><span style=\"color: #008000; text-decoration-color: #008000\">'N'</span><span style=\"font-weight: bold\">]</span>, <span style=\"color: #808000; text-decoration-color: #808000\">description</span>=<span style=\"color: #008000; text-decoration-color: #008000\">'Atomic mass.'</span>, <span style=\"color: #808000; text-decoration-color: #808000\">unit</span>=<span style=\"color: #008000; text-decoration-color: #008000\">'amu'</span><span style=\"font-weight: bold\">)</span>,\n",
       "        <span style=\"color: #008000; text-decoration-color: #008000\">'radius'</span>: <span style=\"color: #800080; text-decoration-color: #800080; font-weight: bold\">SOFT7EntityProperty</span><span style=\"font-weight: bold\">(</span><span style=\"color: #808000; text-decoration-color: #808000\">type</span>=<span style=\"color: #008000; text-decoration-color: #008000\">'float'</span>, <span style=\"color: #808000; text-decoration-color: #808000\">shape</span>=<span style=\"font-weight: bold\">[</span><span style=\"color: #008000; text-decoration-color: #008000\">'N'</span><span style=\"font-weight: bold\">]</span>, <span style=\"color: #808000; text-decoration-color: #808000\">description</span>=<span style=\"color: #008000; text-decoration-color: #008000\">'Atomic radius.'</span>, <span style=\"color: #808000; text-decoration-color: #808000\">unit</span>=<span style=\"color: #008000; text-decoration-color: #008000\">'Å'</span><span style=\"font-weight: bold\">)</span>\n",
       "    <span style=\"font-weight: bold\">}</span>\n",
       "<span style=\"font-weight: bold\">)</span>\n",
       "</pre>\n"
      ],
      "text/plain": [
       "\u001b[1;35mSOFT7Entity\u001b[0m\u001b[1m(\u001b[0m\n",
       "    \u001b[33midentity\u001b[0m=\u001b[1;35mUrl\u001b[0m\u001b[1m(\u001b[0m\u001b[32m'http://onto-ns.com/s7/0.1.0/MolecularSpecies'\u001b[0m\u001b[1m)\u001b[0m,\n",
       "    \u001b[33mdescription\u001b[0m=\u001b[32m'A bare-bones entity for testing.'\u001b[0m,\n",
       "    \u001b[33mdimensions\u001b[0m=\u001b[1m{\u001b[0m\u001b[32m'N'\u001b[0m: \u001b[32m'Number of elements.'\u001b[0m\u001b[1m}\u001b[0m,\n",
       "    \u001b[33mproperties\u001b[0m=\u001b[1m{\u001b[0m\n",
       "        \u001b[32m'atom'\u001b[0m: \u001b[1;35mSOFT7EntityProperty\u001b[0m\u001b[1m(\u001b[0m\u001b[33mtype\u001b[0m=\u001b[32m'string'\u001b[0m, \u001b[33mshape\u001b[0m=\u001b[1m[\u001b[0m\u001b[32m'N'\u001b[0m\u001b[1m]\u001b[0m, \u001b[33mdescription\u001b[0m=\u001b[32m'An atom.'\u001b[0m, \u001b[33munit\u001b[0m=\u001b[3;35mNone\u001b[0m\u001b[1m)\u001b[0m,\n",
       "        \u001b[32m'electrons'\u001b[0m: \u001b[1;35mSOFT7EntityProperty\u001b[0m\u001b[1m(\u001b[0m\u001b[33mtype\u001b[0m=\u001b[32m'int'\u001b[0m, \u001b[33mshape\u001b[0m=\u001b[1m[\u001b[0m\u001b[32m'N'\u001b[0m\u001b[1m]\u001b[0m, \u001b[33mdescription\u001b[0m=\u001b[32m'Number of electrons.'\u001b[0m, \u001b[33munit\u001b[0m=\u001b[3;35mNone\u001b[0m\u001b[1m)\u001b[0m,\n",
       "        \u001b[32m'mass'\u001b[0m: \u001b[1;35mSOFT7EntityProperty\u001b[0m\u001b[1m(\u001b[0m\u001b[33mtype\u001b[0m=\u001b[32m'float'\u001b[0m, \u001b[33mshape\u001b[0m=\u001b[1m[\u001b[0m\u001b[32m'N'\u001b[0m\u001b[1m]\u001b[0m, \u001b[33mdescription\u001b[0m=\u001b[32m'Atomic mass.'\u001b[0m, \u001b[33munit\u001b[0m=\u001b[32m'amu'\u001b[0m\u001b[1m)\u001b[0m,\n",
       "        \u001b[32m'radius'\u001b[0m: \u001b[1;35mSOFT7EntityProperty\u001b[0m\u001b[1m(\u001b[0m\u001b[33mtype\u001b[0m=\u001b[32m'float'\u001b[0m, \u001b[33mshape\u001b[0m=\u001b[1m[\u001b[0m\u001b[32m'N'\u001b[0m\u001b[1m]\u001b[0m, \u001b[33mdescription\u001b[0m=\u001b[32m'Atomic radius.'\u001b[0m, \u001b[33munit\u001b[0m=\u001b[32m'Å'\u001b[0m\u001b[1m)\u001b[0m\n",
       "    \u001b[1m}\u001b[0m\n",
       "\u001b[1m)\u001b[0m\n"
      ]
     },
     "metadata": {},
     "output_type": "display_data"
    }
   ],
   "source": [
    "from s7.factories.generated_classes import MolecularSpeciesEntity\n",
    "\n",
    "print(MolecularSpeciesEntity)\n",
    "print(\n",
    "    \"The imported 'MolecularSpeciesEntity' class is exactly the same as the previously \"\n",
    "    f\"generated 'MolecularSpecies' class: {MolecularSpeciesEntity == MolecularSpecies}\"\n",
    ")\n",
    "print(MolecularSpeciesEntity.__doc__)\n",
    "print(MolecularSpeciesEntity.entity)"
   ]
  },
  {
   "cell_type": "markdown",
   "metadata": {},
   "source": [
    "## Create an instance of the custom class\n",
    "\n",
    "Load test data that has been pre-formatted to match the data structure of an entity, i.e., it has been written as a dictionary/object with the top keys `dimensions` and `properties`."
   ]
  },
  {
   "cell_type": "code",
   "execution_count": 98,
   "metadata": {},
   "outputs": [
    {
     "data": {
      "text/html": [
       "<pre style=\"white-space:pre;overflow-x:auto;line-height:normal;font-family:Menlo,'DejaVu Sans Mono',consolas,'Courier New',monospace\">dimensions:\n",
       "  N: <span style=\"color: #008080; text-decoration-color: #008080; font-weight: bold\">3</span>\n",
       "properties:\n",
       "  atom:\n",
       "  - H\n",
       "  - He\n",
       "  - Li\n",
       "  electrons:\n",
       "  - <span style=\"color: #008080; text-decoration-color: #008080; font-weight: bold\">1</span>\n",
       "  - <span style=\"color: #008080; text-decoration-color: #008080; font-weight: bold\">2</span>\n",
       "  - <span style=\"color: #008080; text-decoration-color: #008080; font-weight: bold\">3</span>\n",
       "  mass:\n",
       "  - <span style=\"color: #008080; text-decoration-color: #008080; font-weight: bold\">1.008</span>\n",
       "  - <span style=\"color: #008080; text-decoration-color: #008080; font-weight: bold\">4.0026</span>\n",
       "  - <span style=\"color: #008080; text-decoration-color: #008080; font-weight: bold\">6.94</span>\n",
       "  radius:\n",
       "  - <span style=\"color: #008080; text-decoration-color: #008080; font-weight: bold\">0.37</span>\n",
       "  - <span style=\"color: #008080; text-decoration-color: #008080; font-weight: bold\">0.32</span>\n",
       "  - <span style=\"color: #008080; text-decoration-color: #008080; font-weight: bold\">1.45</span>\n",
       "\n",
       "</pre>\n"
      ],
      "text/plain": [
       "dimensions:\n",
       "  N: \u001b[1;36m3\u001b[0m\n",
       "properties:\n",
       "  atom:\n",
       "  - H\n",
       "  - He\n",
       "  - Li\n",
       "  electrons:\n",
       "  - \u001b[1;36m1\u001b[0m\n",
       "  - \u001b[1;36m2\u001b[0m\n",
       "  - \u001b[1;36m3\u001b[0m\n",
       "  mass:\n",
       "  - \u001b[1;36m1.008\u001b[0m\n",
       "  - \u001b[1;36m4.0026\u001b[0m\n",
       "  - \u001b[1;36m6.94\u001b[0m\n",
       "  radius:\n",
       "  - \u001b[1;36m0.37\u001b[0m\n",
       "  - \u001b[1;36m0.32\u001b[0m\n",
       "  - \u001b[1;36m1.45\u001b[0m\n",
       "\n"
      ]
     },
     "metadata": {},
     "output_type": "display_data"
    }
   ],
   "source": [
    "TEST_ENTITY_DATA_PATH = STATIC_TEST_DIR / \"soft_datasource_entity_test_data.yaml\"\n",
    "\n",
    "RAW_TEST_ENTITY_DATA: dict[str, Any] = yaml.safe_load(TEST_ENTITY_DATA_PATH.read_text())\n",
    "\n",
    "print(yaml.safe_dump(RAW_TEST_ENTITY_DATA))"
   ]
  },
  {
   "cell_type": "code",
   "execution_count": 99,
   "metadata": {},
   "outputs": [
    {
     "data": {
      "text/html": [
       "<pre style=\"white-space:pre;overflow-x:auto;line-height:normal;font-family:Menlo,'DejaVu Sans Mono',consolas,'Courier New',monospace\"><span style=\"color: #800080; text-decoration-color: #800080; font-weight: bold\">MolecularSpeciesEntity</span><span style=\"font-weight: bold\">(</span>\n",
       "    <span style=\"color: #808000; text-decoration-color: #808000\">dimensions</span>=<span style=\"color: #800080; text-decoration-color: #800080; font-weight: bold\">MolecularSpeciesEntityDimensions</span><span style=\"font-weight: bold\">(</span><span style=\"color: #808000; text-decoration-color: #808000\">N</span>=<span style=\"color: #008080; text-decoration-color: #008080; font-weight: bold\">3</span><span style=\"font-weight: bold\">)</span>,\n",
       "    <span style=\"color: #808000; text-decoration-color: #808000\">properties</span>=<span style=\"color: #800080; text-decoration-color: #800080; font-weight: bold\">MolecularSpeciesEntityProperties</span><span style=\"font-weight: bold\">(</span>\n",
       "        <span style=\"color: #808000; text-decoration-color: #808000\">atom</span>=<span style=\"font-weight: bold\">[</span><span style=\"color: #008000; text-decoration-color: #008000\">'H'</span>, <span style=\"color: #008000; text-decoration-color: #008000\">'He'</span>, <span style=\"color: #008000; text-decoration-color: #008000\">'Li'</span><span style=\"font-weight: bold\">]</span>,\n",
       "        <span style=\"color: #808000; text-decoration-color: #808000\">electrons</span>=<span style=\"font-weight: bold\">[</span><span style=\"color: #008080; text-decoration-color: #008080; font-weight: bold\">1</span>, <span style=\"color: #008080; text-decoration-color: #008080; font-weight: bold\">2</span>, <span style=\"color: #008080; text-decoration-color: #008080; font-weight: bold\">3</span><span style=\"font-weight: bold\">]</span>,\n",
       "        <span style=\"color: #808000; text-decoration-color: #808000\">mass</span>=<span style=\"font-weight: bold\">[</span><span style=\"color: #008080; text-decoration-color: #008080; font-weight: bold\">1.008</span>, <span style=\"color: #008080; text-decoration-color: #008080; font-weight: bold\">4.0026</span>, <span style=\"color: #008080; text-decoration-color: #008080; font-weight: bold\">6.94</span><span style=\"font-weight: bold\">]</span>,\n",
       "        <span style=\"color: #808000; text-decoration-color: #808000\">radius</span>=<span style=\"font-weight: bold\">[</span><span style=\"color: #008080; text-decoration-color: #008080; font-weight: bold\">0.37</span>, <span style=\"color: #008080; text-decoration-color: #008080; font-weight: bold\">0.32</span>, <span style=\"color: #008080; text-decoration-color: #008080; font-weight: bold\">1.45</span><span style=\"font-weight: bold\">]</span>\n",
       "    <span style=\"font-weight: bold\">)</span>\n",
       "<span style=\"font-weight: bold\">)</span>\n",
       "</pre>\n"
      ],
      "text/plain": [
       "\u001b[1;35mMolecularSpeciesEntity\u001b[0m\u001b[1m(\u001b[0m\n",
       "    \u001b[33mdimensions\u001b[0m=\u001b[1;35mMolecularSpeciesEntityDimensions\u001b[0m\u001b[1m(\u001b[0m\u001b[33mN\u001b[0m=\u001b[1;36m3\u001b[0m\u001b[1m)\u001b[0m,\n",
       "    \u001b[33mproperties\u001b[0m=\u001b[1;35mMolecularSpeciesEntityProperties\u001b[0m\u001b[1m(\u001b[0m\n",
       "        \u001b[33matom\u001b[0m=\u001b[1m[\u001b[0m\u001b[32m'H'\u001b[0m, \u001b[32m'He'\u001b[0m, \u001b[32m'Li'\u001b[0m\u001b[1m]\u001b[0m,\n",
       "        \u001b[33melectrons\u001b[0m=\u001b[1m[\u001b[0m\u001b[1;36m1\u001b[0m, \u001b[1;36m2\u001b[0m, \u001b[1;36m3\u001b[0m\u001b[1m]\u001b[0m,\n",
       "        \u001b[33mmass\u001b[0m=\u001b[1m[\u001b[0m\u001b[1;36m1.008\u001b[0m, \u001b[1;36m4.0026\u001b[0m, \u001b[1;36m6.94\u001b[0m\u001b[1m]\u001b[0m,\n",
       "        \u001b[33mradius\u001b[0m=\u001b[1m[\u001b[0m\u001b[1;36m0.37\u001b[0m, \u001b[1;36m0.32\u001b[0m, \u001b[1;36m1.45\u001b[0m\u001b[1m]\u001b[0m\n",
       "    \u001b[1m)\u001b[0m\n",
       "\u001b[1m)\u001b[0m\n"
      ]
     },
     "metadata": {},
     "output_type": "display_data"
    }
   ],
   "source": [
    "entity_data = MolecularSpecies(**RAW_TEST_ENTITY_DATA)\n",
    "\n",
    "print(entity_data)"
   ]
  },
  {
   "cell_type": "markdown",
   "metadata": {},
   "source": [
    "While the entity is still accessible under the `entity` class attribute for the instance, when serialized to JSON or a dictionary utilizing the standard serialization methods for a pydantic model, only `dimensions` and `properties` are included:"
   ]
  },
  {
   "cell_type": "code",
   "execution_count": 100,
   "metadata": {},
   "outputs": [
    {
     "data": {
      "text/html": [
       "<pre style=\"white-space:pre;overflow-x:auto;line-height:normal;font-family:Menlo,'DejaVu Sans Mono',consolas,'Courier New',monospace\">Python dictionary:\n",
       "</pre>\n"
      ],
      "text/plain": [
       "Python dictionary:\n"
      ]
     },
     "metadata": {},
     "output_type": "display_data"
    },
    {
     "data": {
      "text/html": [
       "<pre style=\"white-space:pre;overflow-x:auto;line-height:normal;font-family:Menlo,'DejaVu Sans Mono',consolas,'Courier New',monospace\"><span style=\"font-weight: bold\">{</span>\n",
       "    <span style=\"color: #008000; text-decoration-color: #008000\">'dimensions'</span>: <span style=\"font-weight: bold\">{</span><span style=\"color: #008000; text-decoration-color: #008000\">'N'</span>: <span style=\"color: #008080; text-decoration-color: #008080; font-weight: bold\">3</span><span style=\"font-weight: bold\">}</span>,\n",
       "    <span style=\"color: #008000; text-decoration-color: #008000\">'properties'</span>: <span style=\"font-weight: bold\">{</span>\n",
       "        <span style=\"color: #008000; text-decoration-color: #008000\">'atom'</span>: <span style=\"font-weight: bold\">[</span><span style=\"color: #008000; text-decoration-color: #008000\">'H'</span>, <span style=\"color: #008000; text-decoration-color: #008000\">'He'</span>, <span style=\"color: #008000; text-decoration-color: #008000\">'Li'</span><span style=\"font-weight: bold\">]</span>,\n",
       "        <span style=\"color: #008000; text-decoration-color: #008000\">'electrons'</span>: <span style=\"font-weight: bold\">[</span><span style=\"color: #008080; text-decoration-color: #008080; font-weight: bold\">1</span>, <span style=\"color: #008080; text-decoration-color: #008080; font-weight: bold\">2</span>, <span style=\"color: #008080; text-decoration-color: #008080; font-weight: bold\">3</span><span style=\"font-weight: bold\">]</span>,\n",
       "        <span style=\"color: #008000; text-decoration-color: #008000\">'mass'</span>: <span style=\"font-weight: bold\">[</span><span style=\"color: #008080; text-decoration-color: #008080; font-weight: bold\">1.008</span>, <span style=\"color: #008080; text-decoration-color: #008080; font-weight: bold\">4.0026</span>, <span style=\"color: #008080; text-decoration-color: #008080; font-weight: bold\">6.94</span><span style=\"font-weight: bold\">]</span>,\n",
       "        <span style=\"color: #008000; text-decoration-color: #008000\">'radius'</span>: <span style=\"font-weight: bold\">[</span><span style=\"color: #008080; text-decoration-color: #008080; font-weight: bold\">0.37</span>, <span style=\"color: #008080; text-decoration-color: #008080; font-weight: bold\">0.32</span>, <span style=\"color: #008080; text-decoration-color: #008080; font-weight: bold\">1.45</span><span style=\"font-weight: bold\">]</span>\n",
       "    <span style=\"font-weight: bold\">}</span>\n",
       "<span style=\"font-weight: bold\">}</span>\n",
       "</pre>\n"
      ],
      "text/plain": [
       "\u001b[1m{\u001b[0m\n",
       "    \u001b[32m'dimensions'\u001b[0m: \u001b[1m{\u001b[0m\u001b[32m'N'\u001b[0m: \u001b[1;36m3\u001b[0m\u001b[1m}\u001b[0m,\n",
       "    \u001b[32m'properties'\u001b[0m: \u001b[1m{\u001b[0m\n",
       "        \u001b[32m'atom'\u001b[0m: \u001b[1m[\u001b[0m\u001b[32m'H'\u001b[0m, \u001b[32m'He'\u001b[0m, \u001b[32m'Li'\u001b[0m\u001b[1m]\u001b[0m,\n",
       "        \u001b[32m'electrons'\u001b[0m: \u001b[1m[\u001b[0m\u001b[1;36m1\u001b[0m, \u001b[1;36m2\u001b[0m, \u001b[1;36m3\u001b[0m\u001b[1m]\u001b[0m,\n",
       "        \u001b[32m'mass'\u001b[0m: \u001b[1m[\u001b[0m\u001b[1;36m1.008\u001b[0m, \u001b[1;36m4.0026\u001b[0m, \u001b[1;36m6.94\u001b[0m\u001b[1m]\u001b[0m,\n",
       "        \u001b[32m'radius'\u001b[0m: \u001b[1m[\u001b[0m\u001b[1;36m0.37\u001b[0m, \u001b[1;36m0.32\u001b[0m, \u001b[1;36m1.45\u001b[0m\u001b[1m]\u001b[0m\n",
       "    \u001b[1m}\u001b[0m\n",
       "\u001b[1m}\u001b[0m\n"
      ]
     },
     "metadata": {},
     "output_type": "display_data"
    },
    {
     "data": {
      "text/html": [
       "<pre style=\"white-space:pre;overflow-x:auto;line-height:normal;font-family:Menlo,'DejaVu Sans Mono',consolas,'Courier New',monospace\">JSON:\n",
       "</pre>\n"
      ],
      "text/plain": [
       "JSON:\n"
      ]
     },
     "metadata": {},
     "output_type": "display_data"
    },
    {
     "data": {
      "text/html": [
       "<pre style=\"white-space:pre;overflow-x:auto;line-height:normal;font-family:Menlo,'DejaVu Sans Mono',consolas,'Courier New',monospace\"><span style=\"font-weight: bold\">{</span>\n",
       "  <span style=\"color: #000080; text-decoration-color: #000080; font-weight: bold\">\"dimensions\"</span>: <span style=\"font-weight: bold\">{</span>\n",
       "    <span style=\"color: #000080; text-decoration-color: #000080; font-weight: bold\">\"N\"</span>: <span style=\"color: #008080; text-decoration-color: #008080; font-weight: bold\">3</span>\n",
       "  <span style=\"font-weight: bold\">}</span>,\n",
       "  <span style=\"color: #000080; text-decoration-color: #000080; font-weight: bold\">\"properties\"</span>: <span style=\"font-weight: bold\">{</span>\n",
       "    <span style=\"color: #000080; text-decoration-color: #000080; font-weight: bold\">\"atom\"</span>: <span style=\"font-weight: bold\">[</span>\n",
       "      <span style=\"color: #008000; text-decoration-color: #008000\">\"H\"</span>,\n",
       "      <span style=\"color: #008000; text-decoration-color: #008000\">\"He\"</span>,\n",
       "      <span style=\"color: #008000; text-decoration-color: #008000\">\"Li\"</span>\n",
       "    <span style=\"font-weight: bold\">]</span>,\n",
       "    <span style=\"color: #000080; text-decoration-color: #000080; font-weight: bold\">\"electrons\"</span>: <span style=\"font-weight: bold\">[</span>\n",
       "      <span style=\"color: #008080; text-decoration-color: #008080; font-weight: bold\">1</span>,\n",
       "      <span style=\"color: #008080; text-decoration-color: #008080; font-weight: bold\">2</span>,\n",
       "      <span style=\"color: #008080; text-decoration-color: #008080; font-weight: bold\">3</span>\n",
       "    <span style=\"font-weight: bold\">]</span>,\n",
       "    <span style=\"color: #000080; text-decoration-color: #000080; font-weight: bold\">\"mass\"</span>: <span style=\"font-weight: bold\">[</span>\n",
       "      <span style=\"color: #008080; text-decoration-color: #008080; font-weight: bold\">1.008</span>,\n",
       "      <span style=\"color: #008080; text-decoration-color: #008080; font-weight: bold\">4.0026</span>,\n",
       "      <span style=\"color: #008080; text-decoration-color: #008080; font-weight: bold\">6.94</span>\n",
       "    <span style=\"font-weight: bold\">]</span>,\n",
       "    <span style=\"color: #000080; text-decoration-color: #000080; font-weight: bold\">\"radius\"</span>: <span style=\"font-weight: bold\">[</span>\n",
       "      <span style=\"color: #008080; text-decoration-color: #008080; font-weight: bold\">0.37</span>,\n",
       "      <span style=\"color: #008080; text-decoration-color: #008080; font-weight: bold\">0.32</span>,\n",
       "      <span style=\"color: #008080; text-decoration-color: #008080; font-weight: bold\">1.45</span>\n",
       "    <span style=\"font-weight: bold\">]</span>\n",
       "  <span style=\"font-weight: bold\">}</span>\n",
       "<span style=\"font-weight: bold\">}</span>\n",
       "</pre>\n"
      ],
      "text/plain": [
       "\u001b[1m{\u001b[0m\n",
       "  \u001b[1;34m\"dimensions\"\u001b[0m: \u001b[1m{\u001b[0m\n",
       "    \u001b[1;34m\"N\"\u001b[0m: \u001b[1;36m3\u001b[0m\n",
       "  \u001b[1m}\u001b[0m,\n",
       "  \u001b[1;34m\"properties\"\u001b[0m: \u001b[1m{\u001b[0m\n",
       "    \u001b[1;34m\"atom\"\u001b[0m: \u001b[1m[\u001b[0m\n",
       "      \u001b[32m\"H\"\u001b[0m,\n",
       "      \u001b[32m\"He\"\u001b[0m,\n",
       "      \u001b[32m\"Li\"\u001b[0m\n",
       "    \u001b[1m]\u001b[0m,\n",
       "    \u001b[1;34m\"electrons\"\u001b[0m: \u001b[1m[\u001b[0m\n",
       "      \u001b[1;36m1\u001b[0m,\n",
       "      \u001b[1;36m2\u001b[0m,\n",
       "      \u001b[1;36m3\u001b[0m\n",
       "    \u001b[1m]\u001b[0m,\n",
       "    \u001b[1;34m\"mass\"\u001b[0m: \u001b[1m[\u001b[0m\n",
       "      \u001b[1;36m1.008\u001b[0m,\n",
       "      \u001b[1;36m4.0026\u001b[0m,\n",
       "      \u001b[1;36m6.94\u001b[0m\n",
       "    \u001b[1m]\u001b[0m,\n",
       "    \u001b[1;34m\"radius\"\u001b[0m: \u001b[1m[\u001b[0m\n",
       "      \u001b[1;36m0.37\u001b[0m,\n",
       "      \u001b[1;36m0.32\u001b[0m,\n",
       "      \u001b[1;36m1.45\u001b[0m\n",
       "    \u001b[1m]\u001b[0m\n",
       "  \u001b[1m}\u001b[0m\n",
       "\u001b[1m}\u001b[0m\n"
      ]
     },
     "metadata": {},
     "output_type": "display_data"
    }
   ],
   "source": [
    "print(\"Python dictionary:\")\n",
    "print(entity_data.model_dump())\n",
    "\n",
    "print(\"JSON:\")\n",
    "print_json(entity_data.model_dump_json())"
   ]
  }
 ],
 "metadata": {
  "kernelspec": {
   "display_name": "soft",
   "language": "python",
   "name": "python3"
  },
  "language_info": {
   "codemirror_mode": {
    "name": "ipython",
    "version": 3
   },
   "file_extension": ".py",
   "mimetype": "text/x-python",
   "name": "python",
   "nbconvert_exporter": "python",
   "pygments_lexer": "ipython3",
   "version": "3.10.13"
  }
 },
 "nbformat": 4,
 "nbformat_minor": 2
}
